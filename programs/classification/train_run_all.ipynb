{
 "cells": [
  {
   "cell_type": "code",
   "execution_count": 1,
   "metadata": {},
   "outputs": [],
   "source": [
    "import os\n",
    "import cv2\n",
    "import numpy as np\n",
    "import pickle\n",
    "import time\n",
    "import matplotlib.pyplot as plt\n",
    "import pandas as pd\n",
    "import random\n",
    "from glob import glob\n",
    "from tqdm import tqdm\n",
    "from utils import *\n",
    "\n",
    "import torch\n",
    "import torch.nn as nn\n",
    "import torch.nn.functional as F\n",
    "from torch import optim\n",
    "from torch.utils.data import DataLoader, TensorDataset\n",
    "\n",
    "from sklearn import metrics\n",
    "from sklearn.model_selection import KFold\n",
    "\n",
    "# import要訓練的 model\n",
    "from MRSKNet2c import MRSKNet\n",
    "\n",
    "device = torch.device(\"cuda\") if torch.cuda.is_available() else torch.device(\"cpu\")\n",
    "data_folder = \"/home/cbel/Desktop/zhe/data\""
   ]
  },
  {
   "cell_type": "code",
   "execution_count": 2,
   "metadata": {},
   "outputs": [],
   "source": [
    "def load_data(df, index, imgs_path, augment=False):\n",
    "    imgs = {}\n",
    "    labels = {}\n",
    "    for i in range(len(imgs_path)):\n",
    "        if augment:\n",
    "            num = int(imgs_path[i][-11:-7])\n",
    "        else:\n",
    "            num = int(imgs_path[i][-8:-4])\n",
    "        if num in index:\n",
    "            if num not in imgs:\n",
    "                imgs[num] = []\n",
    "                labels[num] = int(df[df[\"nodule_number\"]==num][\"malignancy\"])\n",
    "            img = np.load(imgs_path[i])\n",
    "            img = img / 255.0\n",
    "            imgs[num].append(img)\n",
    "    return imgs, labels\n",
    "\n",
    "def generate_data(imgs, labels, index):\n",
    "    train_imgs = []\n",
    "    train_labels = []\n",
    "    for key in index:\n",
    "        for i in range(len(imgs[key])):\n",
    "            train_imgs.append(imgs[key][i])\n",
    "            train_labels.append(labels[key])\n",
    "    train_imgs = np.array(train_imgs)\n",
    "    train_labels = np.array(train_labels)\n",
    "    train_labels = train_labels[:, np.newaxis]\n",
    "    return train_imgs, train_labels"
   ]
  },
  {
   "cell_type": "code",
   "execution_count": 3,
   "metadata": {},
   "outputs": [],
   "source": [
    "def train(train_loader, val_loader, model, lr, epochs):\n",
    "    set_randomSeed()\n",
    "    start = time.time()\n",
    "#     if torch.cuda.device_count() > 1:\n",
    "#         print(\"Let's use multiple GPUs!\")\n",
    "#         model = nn.DataParallel(model)\n",
    "\n",
    "    model.to(device)\n",
    "    print(\"parameter numbers:\", sum(param.numel() for param in model.parameters()))\n",
    "    optimizer = optim.Adam(model.parameters(), lr=lr)\n",
    "    loss = nn.BCELoss()\n",
    "    scheduler = optim.lr_scheduler.StepLR(optimizer, step_size=25, gamma=0.1)\n",
    "\n",
    "    his_train_loss = []\n",
    "    his_val_loss = []\n",
    "    best_metrics = 0.0\n",
    "    best_auc = 0.0\n",
    "    best_acc = 0.0\n",
    "    best_recall = 0.0\n",
    "    \n",
    "    for epoch in tqdm(range(epochs)):\n",
    "        epoch_start_time = time.time()\n",
    "        preds_list = []\n",
    "        labels_list = []\n",
    "\n",
    "        train_loss = 0\n",
    "        train_auc = 0\n",
    "        train_acc = 0\n",
    "        train_recall = 0\n",
    "        train_specificity = 0\n",
    "        train_precision = 0\n",
    "        train_len = train_loader.__len__()\n",
    "\n",
    "        val_loss = 0\n",
    "        val_auc = 0\n",
    "        val_acc = 0\n",
    "        val_recall = 0\n",
    "        val_specificity = 0\n",
    "        val_precision = 0\n",
    "        val_len = val_loader.__len__()\n",
    "\n",
    "        model.train()\n",
    "        for i, batch in enumerate(train_loader):\n",
    "            optimizer.zero_grad()\n",
    "            inputs = batch[0].to(device)\n",
    "            labels = batch[1].to(device)\n",
    "            preds = model(inputs)\n",
    "            batch_loss = loss(preds, labels)\n",
    "            batch_loss.backward()\n",
    "            optimizer.step()\n",
    "\n",
    "            preds = preds.data.cpu().numpy()\n",
    "            labels = labels.data.cpu().numpy()\n",
    "\n",
    "            train_loss += batch_loss.item()\n",
    "            if len(np.unique(labels)) == 2:\n",
    "                train_auc += metrics.roc_auc_score(labels, preds)\n",
    "            preds[preds > 0.5] = 1\n",
    "            preds[preds != 1] = 0\n",
    "            confusion = metrics.confusion_matrix(labels, preds)\n",
    "            TP = confusion[1, 1]\n",
    "            TN = confusion[0, 0]\n",
    "            FP = confusion[0, 1]\n",
    "            FN = confusion[1, 0]\n",
    "            train_acc += ((TP + TN) / (TP + TN + FP + FN))\n",
    "            train_recall += ((TP) / (TP + FN))\n",
    "            train_specificity += ((TN) / (TN + FP))\n",
    "            train_precision += ((TP) / (TP + FP))\n",
    "\n",
    "        model.eval()\n",
    "        with torch.no_grad():\n",
    "            for i, batch in enumerate(val_loader):\n",
    "                inputs = batch[0].to(device)\n",
    "                labels = batch[1].to(device)\n",
    "                preds = model(inputs)\n",
    "                batch_loss = loss(preds, labels)\n",
    "\n",
    "                preds = preds.data.cpu().numpy()\n",
    "                labels = labels.data.cpu().numpy()\n",
    "                preds_list.extend(preds.copy())\n",
    "                labels_list.extend(labels.copy())\n",
    "\n",
    "                val_loss += batch_loss.item()\n",
    "                if len(np.unique(labels)) == 2:\n",
    "                    val_auc += metrics.roc_auc_score(labels, preds)\n",
    "                preds[preds > 0.5] = 1\n",
    "                preds[preds != 1] = 0\n",
    "                confusion = metrics.confusion_matrix(labels, preds)\n",
    "                TP = confusion[1, 1]\n",
    "                TN = confusion[0, 0]\n",
    "                FP = confusion[0, 1]\n",
    "                FN = confusion[1, 0]\n",
    "                val_acc += ((TP + TN) / (TP + TN + FP + FN))\n",
    "                val_recall += ((TP) / (TP + FN))\n",
    "                val_specificity += ((TN) / (TN + FP))\n",
    "                val_precision += ((TP) / (TP + FP))\n",
    "\n",
    "        train_loss = train_loss / train_len\n",
    "        train_auc = train_auc / train_len\n",
    "        train_acc = train_acc / train_len\n",
    "        train_recall = train_recall / train_len\n",
    "        train_specificity = train_specificity / train_len\n",
    "        train_precision = train_precision / train_len\n",
    "        val_loss = val_loss / val_len\n",
    "        val_auc = val_auc / val_len\n",
    "        val_acc = val_acc / val_len\n",
    "        val_recall = val_recall / val_len\n",
    "        val_specificity = val_specificity / val_len\n",
    "        val_precision = val_precision / val_len\n",
    "        his_train_loss.append(train_loss)\n",
    "        his_val_loss.append(val_loss)\n",
    "        fpr, tpr, _ = metrics.roc_curve(labels_list, preds_list, drop_intermediate=False)\n",
    "\n",
    "        scheduler.step()\n",
    "        \n",
    "        if val_auc + val_acc + val_recall >= best_metrics:\n",
    "            roc = []\n",
    "            roc.append(fpr)\n",
    "            roc.append(tpr)\n",
    "            roc.append(val_auc)\n",
    "            best_metrics = val_auc + val_acc + val_recall\n",
    "            best = [val_auc, val_acc, val_recall, val_specificity, val_precision, epoch+1]\n",
    "            \n",
    "    end = time.time()\n",
    "    total_time = end - start\n",
    "    print(f\"Time : {int(total_time // 60)} m {int(total_time % 60)} s\")\n",
    "    print(f\"BEST RESULT --> AUC:{best[0]:.4f}  ACC:{best[1]:.4f}  Recall:{best[2]:.4f}\\\n",
    "  Specificity:{best[3]:.4f} Precision:{best[4]:.4f}  Epoch:{best[5]}\")\n",
    "    return best, roc"
   ]
  },
  {
   "cell_type": "code",
   "execution_count": 4,
   "metadata": {
    "scrolled": true
   },
   "outputs": [
    {
     "name": "stdout",
     "output_type": "stream",
     "text": [
      "ENT\n",
      "Input dimension: (3, 2, 32, 32)\n",
      "-----fold 1-----\n",
      "Train distribution: {0: 6432, 1: 6192}  Total number: 12624\n",
      "Val distribution:   {0: 45, 1: 43}      Total number: 88\n"
     ]
    },
    {
     "name": "stderr",
     "output_type": "stream",
     "text": [
      "\r",
      "  0%|          | 0/50 [00:00<?, ?it/s]"
     ]
    },
    {
     "name": "stdout",
     "output_type": "stream",
     "text": [
      "parameter numbers: 114265\n"
     ]
    },
    {
     "name": "stderr",
     "output_type": "stream",
     "text": [
      "100%|██████████| 50/50 [02:58<00:00,  3.58s/it]\n",
      "  0%|          | 0/50 [00:00<?, ?it/s]"
     ]
    },
    {
     "name": "stdout",
     "output_type": "stream",
     "text": [
      "Time : 3 m 0 s\n",
      "BEST RESULT --> AUC:0.9311  ACC:0.8776  Recall:0.9143  Specificity:0.8481 Precision:0.8472  Epoch:11\n",
      "-----fold 2-----\n",
      "Train distribution: {0: 6432, 1: 6192}  Total number: 12624\n",
      "Val distribution:   {0: 45, 1: 43}      Total number: 88\n",
      "parameter numbers: 114265\n"
     ]
    },
    {
     "name": "stderr",
     "output_type": "stream",
     "text": [
      "100%|██████████| 50/50 [04:08<00:00,  4.98s/it]\n",
      "  0%|          | 0/50 [00:00<?, ?it/s]"
     ]
    },
    {
     "name": "stdout",
     "output_type": "stream",
     "text": [
      "Time : 4 m 8 s\n",
      "BEST RESULT --> AUC:0.9682  ACC:0.9245  Recall:0.8777  Specificity:0.9697 Precision:0.9643  Epoch:10\n",
      "-----fold 3-----\n",
      "Train distribution: {0: 6432, 1: 6192}  Total number: 12624\n",
      "Val distribution:   {0: 45, 1: 43}      Total number: 88\n",
      "parameter numbers: 114265\n"
     ]
    },
    {
     "name": "stderr",
     "output_type": "stream",
     "text": [
      "100%|██████████| 50/50 [04:58<00:00,  5.98s/it]\n",
      "  0%|          | 0/50 [00:00<?, ?it/s]"
     ]
    },
    {
     "name": "stdout",
     "output_type": "stream",
     "text": [
      "Time : 4 m 58 s\n",
      "BEST RESULT --> AUC:0.9734  ACC:0.9245  Recall:0.9286  Specificity:0.9343 Precision:0.9132  Epoch:11\n",
      "-----fold 4-----\n",
      "Train distribution: {0: 6432, 1: 6192}  Total number: 12624\n",
      "Val distribution:   {0: 45, 1: 43}      Total number: 88\n",
      "parameter numbers: 114265\n"
     ]
    },
    {
     "name": "stderr",
     "output_type": "stream",
     "text": [
      "100%|██████████| 50/50 [04:58<00:00,  5.96s/it]\n",
      "  0%|          | 0/50 [00:00<?, ?it/s]"
     ]
    },
    {
     "name": "stdout",
     "output_type": "stream",
     "text": [
      "Time : 4 m 58 s\n",
      "BEST RESULT --> AUC:0.9834  ACC:0.9375  Recall:0.9091  Specificity:0.9677 Precision:0.9655  Epoch:4\n",
      "-----fold 5-----\n",
      "Train distribution: {0: 6432, 1: 6192}  Total number: 12624\n",
      "Val distribution:   {0: 45, 1: 43}      Total number: 88\n",
      "parameter numbers: 114265\n"
     ]
    },
    {
     "name": "stderr",
     "output_type": "stream",
     "text": [
      "100%|██████████| 50/50 [04:58<00:00,  5.97s/it]\n",
      "  0%|          | 0/50 [00:00<?, ?it/s]"
     ]
    },
    {
     "name": "stdout",
     "output_type": "stream",
     "text": [
      "Time : 4 m 58 s\n",
      "BEST RESULT --> AUC:0.9761  ACC:0.9375  Recall:0.9032  Specificity:0.9697 Precision:0.9630  Epoch:16\n",
      "-----fold 6-----\n",
      "Train distribution: {0: 6432, 1: 6192}  Total number: 12624\n",
      "Val distribution:   {0: 45, 1: 43}      Total number: 88\n",
      "parameter numbers: 114265\n"
     ]
    },
    {
     "name": "stderr",
     "output_type": "stream",
     "text": [
      "100%|██████████| 50/50 [04:58<00:00,  5.97s/it]\n",
      "  0%|          | 0/50 [00:00<?, ?it/s]"
     ]
    },
    {
     "name": "stdout",
     "output_type": "stream",
     "text": [
      "Time : 4 m 58 s\n",
      "BEST RESULT --> AUC:0.9539  ACC:0.9062  Recall:0.9107  Specificity:0.9028 Precision:0.8833  Epoch:3\n",
      "-----fold 7-----\n",
      "Train distribution: {0: 6432, 1: 6192}  Total number: 12624\n",
      "Val distribution:   {0: 45, 1: 43}      Total number: 88\n",
      "parameter numbers: 114265\n"
     ]
    },
    {
     "name": "stderr",
     "output_type": "stream",
     "text": [
      "100%|██████████| 50/50 [04:58<00:00,  5.97s/it]\n",
      "  0%|          | 0/50 [00:00<?, ?it/s]"
     ]
    },
    {
     "name": "stdout",
     "output_type": "stream",
     "text": [
      "Time : 4 m 58 s\n",
      "BEST RESULT --> AUC:0.9512  ACC:0.9062  Recall:0.8750  Specificity:0.9375 Precision:0.9286  Epoch:42\n",
      "-----fold 8-----\n",
      "Train distribution: {0: 6448, 1: 6192}  Total number: 12640\n",
      "Val distribution:   {0: 44, 1: 43}      Total number: 87\n",
      "parameter numbers: 114265\n"
     ]
    },
    {
     "name": "stderr",
     "output_type": "stream",
     "text": [
      "100%|██████████| 50/50 [04:59<00:00,  5.98s/it]\n",
      "  0%|          | 0/50 [00:00<?, ?it/s]"
     ]
    },
    {
     "name": "stdout",
     "output_type": "stream",
     "text": [
      "Time : 4 m 59 s\n",
      "BEST RESULT --> AUC:0.9662  ACC:0.9219  Recall:0.9265  Specificity:0.9167 Precision:0.9265  Epoch:34\n",
      "-----fold 9-----\n",
      "Train distribution: {0: 6448, 1: 6192}  Total number: 12640\n",
      "Val distribution:   {0: 44, 1: 43}      Total number: 87\n",
      "parameter numbers: 114265\n"
     ]
    },
    {
     "name": "stderr",
     "output_type": "stream",
     "text": [
      "100%|██████████| 50/50 [05:17<00:00,  6.36s/it]\n"
     ]
    },
    {
     "name": "stdout",
     "output_type": "stream",
     "text": [
      "Time : 5 m 17 s\n",
      "BEST RESULT --> AUC:0.9819  ACC:0.9453  Recall:0.9412  Specificity:0.9500 Precision:0.9545  Epoch:10\n",
      "-----fold 10-----\n",
      "Train distribution: {0: 6448, 1: 6192}  Total number: 12640\n",
      "Val distribution:   {0: 44, 1: 43}      Total number: 87\n"
     ]
    },
    {
     "name": "stderr",
     "output_type": "stream",
     "text": [
      "\r",
      "  0%|          | 0/50 [00:00<?, ?it/s]"
     ]
    },
    {
     "name": "stdout",
     "output_type": "stream",
     "text": [
      "parameter numbers: 114265\n"
     ]
    },
    {
     "name": "stderr",
     "output_type": "stream",
     "text": [
      "100%|██████████| 50/50 [06:40<00:00,  8.00s/it]\n"
     ]
    },
    {
     "name": "stdout",
     "output_type": "stream",
     "text": [
      "Time : 6 m 40 s\n",
      "BEST RESULT --> AUC:0.9839  ACC:0.9609  Recall:0.9531  Specificity:0.9688 Precision:0.9677  Epoch:2\n",
      "FINAL RESULT --> AUC: 0.9669  ACC: 0.9242  Recall: 0.9139  Specificity: 0.9365  Precision: 0.9314\n",
      "HOM\n"
     ]
    },
    {
     "name": "stderr",
     "output_type": "stream",
     "text": [
      "\r",
      "  0%|          | 0/50 [00:00<?, ?it/s]"
     ]
    },
    {
     "name": "stdout",
     "output_type": "stream",
     "text": [
      "Input dimension: (3, 2, 32, 32)\n",
      "-----fold 1-----\n",
      "Train distribution: {0: 6432, 1: 6192}  Total number: 12624\n",
      "Val distribution:   {0: 45, 1: 43}      Total number: 88\n",
      "parameter numbers: 114265\n"
     ]
    },
    {
     "name": "stderr",
     "output_type": "stream",
     "text": [
      "100%|██████████| 50/50 [04:42<00:00,  5.64s/it]\n",
      "  0%|          | 0/50 [00:00<?, ?it/s]"
     ]
    },
    {
     "name": "stdout",
     "output_type": "stream",
     "text": [
      "Time : 4 m 42 s\n",
      "BEST RESULT --> AUC:0.9414  ACC:0.9141  Recall:0.9483  Specificity:0.8857 Precision:0.8824  Epoch:48\n",
      "-----fold 2-----\n",
      "Train distribution: {0: 6432, 1: 6192}  Total number: 12624\n",
      "Val distribution:   {0: 45, 1: 43}      Total number: 88\n",
      "parameter numbers: 114265\n"
     ]
    },
    {
     "name": "stderr",
     "output_type": "stream",
     "text": [
      "100%|██████████| 50/50 [04:42<00:00,  5.66s/it]\n",
      "  0%|          | 0/50 [00:00<?, ?it/s]"
     ]
    },
    {
     "name": "stdout",
     "output_type": "stream",
     "text": [
      "Time : 4 m 42 s\n",
      "BEST RESULT --> AUC:0.9765  ACC:0.9453  Recall:0.9412  Specificity:0.9500 Precision:0.9545  Epoch:37\n",
      "-----fold 3-----\n",
      "Train distribution: {0: 6432, 1: 6192}  Total number: 12624\n",
      "Val distribution:   {0: 45, 1: 43}      Total number: 88\n",
      "parameter numbers: 114265\n"
     ]
    },
    {
     "name": "stderr",
     "output_type": "stream",
     "text": [
      "100%|██████████| 50/50 [04:42<00:00,  5.65s/it]\n",
      "  0%|          | 0/50 [00:00<?, ?it/s]"
     ]
    },
    {
     "name": "stdout",
     "output_type": "stream",
     "text": [
      "Time : 4 m 42 s\n",
      "BEST RESULT --> AUC:0.9760  ACC:0.9271  Recall:0.9677  Specificity:0.8864 Precision:0.8963  Epoch:15\n",
      "-----fold 4-----\n",
      "Train distribution: {0: 6432, 1: 6192}  Total number: 12624\n",
      "Val distribution:   {0: 45, 1: 43}      Total number: 88\n",
      "parameter numbers: 114265\n"
     ]
    },
    {
     "name": "stderr",
     "output_type": "stream",
     "text": [
      "100%|██████████| 50/50 [03:04<00:00,  3.69s/it]\n",
      "  0%|          | 0/50 [00:00<?, ?it/s]"
     ]
    },
    {
     "name": "stdout",
     "output_type": "stream",
     "text": [
      "Time : 3 m 4 s\n",
      "BEST RESULT --> AUC:0.9809  ACC:0.9401  Recall:0.9839  Specificity:0.8977 Precision:0.9027  Epoch:10\n",
      "-----fold 5-----\n",
      "Train distribution: {0: 6432, 1: 6192}  Total number: 12624\n",
      "Val distribution:   {0: 45, 1: 43}      Total number: 88\n",
      "parameter numbers: 114265\n"
     ]
    },
    {
     "name": "stderr",
     "output_type": "stream",
     "text": [
      "100%|██████████| 50/50 [02:53<00:00,  3.47s/it]\n",
      "  0%|          | 0/50 [00:00<?, ?it/s]"
     ]
    },
    {
     "name": "stdout",
     "output_type": "stream",
     "text": [
      "Time : 2 m 53 s\n",
      "BEST RESULT --> AUC:0.9721  ACC:0.9323  Recall:0.9194  Specificity:0.9432 Precision:0.9430  Epoch:24\n",
      "-----fold 6-----\n",
      "Train distribution: {0: 6432, 1: 6192}  Total number: 12624\n",
      "Val distribution:   {0: 45, 1: 43}      Total number: 88\n",
      "parameter numbers: 114265\n"
     ]
    },
    {
     "name": "stderr",
     "output_type": "stream",
     "text": [
      "100%|██████████| 50/50 [02:53<00:00,  3.47s/it]\n",
      "  0%|          | 0/50 [00:00<?, ?it/s]"
     ]
    },
    {
     "name": "stdout",
     "output_type": "stream",
     "text": [
      "Time : 2 m 53 s\n",
      "BEST RESULT --> AUC:0.9632  ACC:0.9375  Recall:0.9706  Specificity:0.9000 Precision:0.9211  Epoch:13\n",
      "-----fold 7-----\n",
      "Train distribution: {0: 6432, 1: 6192}  Total number: 12624\n",
      "Val distribution:   {0: 45, 1: 43}      Total number: 88\n",
      "parameter numbers: 114265\n"
     ]
    },
    {
     "name": "stderr",
     "output_type": "stream",
     "text": [
      "100%|██████████| 50/50 [02:54<00:00,  3.48s/it]\n",
      "  0%|          | 0/50 [00:00<?, ?it/s]"
     ]
    },
    {
     "name": "stdout",
     "output_type": "stream",
     "text": [
      "Time : 2 m 54 s\n",
      "BEST RESULT --> AUC:0.9548  ACC:0.9167  Recall:0.9194  Specificity:0.9129 Precision:0.9098  Epoch:15\n",
      "-----fold 8-----\n",
      "Train distribution: {0: 6448, 1: 6192}  Total number: 12640\n",
      "Val distribution:   {0: 44, 1: 43}      Total number: 87\n",
      "parameter numbers: 114265\n"
     ]
    },
    {
     "name": "stderr",
     "output_type": "stream",
     "text": [
      "100%|██████████| 50/50 [04:26<00:00,  5.33s/it]\n"
     ]
    },
    {
     "name": "stdout",
     "output_type": "stream",
     "text": [
      "Time : 4 m 26 s\n",
      "BEST RESULT --> AUC:0.9731  ACC:0.9314  Recall:0.9839  Specificity:0.8788 Precision:0.8901  Epoch:12\n",
      "-----fold 9-----\n",
      "Train distribution: {0: 6448, 1: 6192}  Total number: 12640\n",
      "Val distribution:   {0: 44, 1: 43}      Total number: 87\n"
     ]
    },
    {
     "name": "stderr",
     "output_type": "stream",
     "text": [
      "\r",
      "  0%|          | 0/50 [00:00<?, ?it/s]"
     ]
    },
    {
     "name": "stdout",
     "output_type": "stream",
     "text": [
      "parameter numbers: 114265\n"
     ]
    },
    {
     "name": "stderr",
     "output_type": "stream",
     "text": [
      "100%|██████████| 50/50 [07:04<00:00,  8.48s/it]\n"
     ]
    },
    {
     "name": "stdout",
     "output_type": "stream",
     "text": [
      "Time : 7 m 4 s\n",
      "BEST RESULT --> AUC:0.9800  ACC:0.9609  Recall:0.9688  Specificity:0.9531 Precision:0.9545  Epoch:26\n",
      "-----fold 10-----\n",
      "Train distribution: {0: 6448, 1: 6192}  Total number: 12640\n",
      "Val distribution:   {0: 44, 1: 43}      Total number: 87\n"
     ]
    },
    {
     "name": "stderr",
     "output_type": "stream",
     "text": [
      "\r",
      "  0%|          | 0/50 [00:00<?, ?it/s]"
     ]
    },
    {
     "name": "stdout",
     "output_type": "stream",
     "text": [
      "parameter numbers: 114265\n"
     ]
    },
    {
     "name": "stderr",
     "output_type": "stream",
     "text": [
      "100%|██████████| 50/50 [07:04<00:00,  8.49s/it]\n"
     ]
    },
    {
     "name": "stdout",
     "output_type": "stream",
     "text": [
      "Time : 7 m 4 s\n",
      "BEST RESULT --> AUC:0.9932  ACC:0.9609  Recall:0.9531  Specificity:0.9688 Precision:0.9677  Epoch:31\n",
      "FINAL RESULT --> AUC: 0.9711  ACC: 0.9366  Recall: 0.9556  Specificity: 0.9177  Precision: 0.9222\n",
      "GLN\n",
      "Input dimension: (3, 2, 32, 32)\n",
      "-----fold 1-----\n",
      "Train distribution: {0: 6432, 1: 6192}  Total number: 12624\n",
      "Val distribution:   {0: 45, 1: 43}      Total number: 88\n"
     ]
    },
    {
     "name": "stderr",
     "output_type": "stream",
     "text": [
      "\r",
      "  0%|          | 0/50 [00:00<?, ?it/s]"
     ]
    },
    {
     "name": "stdout",
     "output_type": "stream",
     "text": [
      "parameter numbers: 114265\n"
     ]
    },
    {
     "name": "stderr",
     "output_type": "stream",
     "text": [
      "100%|██████████| 50/50 [07:04<00:00,  8.48s/it]\n"
     ]
    },
    {
     "name": "stdout",
     "output_type": "stream",
     "text": [
      "Time : 7 m 4 s\n",
      "BEST RESULT --> AUC:0.9478  ACC:0.8776  Recall:0.9000  Specificity:0.8653 Precision:0.8562  Epoch:11\n",
      "-----fold 2-----\n",
      "Train distribution: {0: 6432, 1: 6192}  Total number: 12624\n",
      "Val distribution:   {0: 45, 1: 43}      Total number: 88\n"
     ]
    },
    {
     "name": "stderr",
     "output_type": "stream",
     "text": [
      "\r",
      "  0%|          | 0/50 [00:00<?, ?it/s]"
     ]
    },
    {
     "name": "stdout",
     "output_type": "stream",
     "text": [
      "parameter numbers: 114265\n"
     ]
    },
    {
     "name": "stderr",
     "output_type": "stream",
     "text": [
      "100%|██████████| 50/50 [06:25<00:00,  7.70s/it]\n",
      "  0%|          | 0/50 [00:00<?, ?it/s]"
     ]
    },
    {
     "name": "stdout",
     "output_type": "stream",
     "text": [
      "Time : 6 m 25 s\n",
      "BEST RESULT --> AUC:0.9692  ACC:0.9453  Recall:0.8939  Specificity:1.0000 Precision:1.0000  Epoch:44\n",
      "-----fold 3-----\n",
      "Train distribution: {0: 6432, 1: 6192}  Total number: 12624\n",
      "Val distribution:   {0: 45, 1: 43}      Total number: 88\n",
      "parameter numbers: 114265\n"
     ]
    },
    {
     "name": "stderr",
     "output_type": "stream",
     "text": [
      "100%|██████████| 50/50 [04:55<00:00,  5.91s/it]\n",
      "  0%|          | 0/50 [00:00<?, ?it/s]"
     ]
    },
    {
     "name": "stdout",
     "output_type": "stream",
     "text": [
      "Time : 4 m 55 s\n",
      "BEST RESULT --> AUC:0.9724  ACC:0.9036  Recall:0.9286  Specificity:0.9030 Precision:0.8688  Epoch:11\n",
      "-----fold 4-----\n",
      "Train distribution: {0: 6432, 1: 6192}  Total number: 12624\n",
      "Val distribution:   {0: 45, 1: 43}      Total number: 88\n",
      "parameter numbers: 114265\n"
     ]
    },
    {
     "name": "stderr",
     "output_type": "stream",
     "text": [
      "100%|██████████| 50/50 [04:56<00:00,  5.92s/it]\n",
      "  0%|          | 0/50 [00:00<?, ?it/s]"
     ]
    },
    {
     "name": "stdout",
     "output_type": "stream",
     "text": [
      "Time : 4 m 56 s\n",
      "BEST RESULT --> AUC:0.9711  ACC:0.9167  Recall:0.9099  Specificity:0.9242 Precision:0.9242  Epoch:10\n",
      "-----fold 5-----\n",
      "Train distribution: {0: 6432, 1: 6192}  Total number: 12624\n",
      "Val distribution:   {0: 45, 1: 43}      Total number: 88\n",
      "parameter numbers: 114265\n"
     ]
    },
    {
     "name": "stderr",
     "output_type": "stream",
     "text": [
      "100%|██████████| 50/50 [04:57<00:00,  5.94s/it]\n",
      "  0%|          | 0/50 [00:00<?, ?it/s]"
     ]
    },
    {
     "name": "stdout",
     "output_type": "stream",
     "text": [
      "Time : 4 m 57 s\n",
      "BEST RESULT --> AUC:0.9692  ACC:0.9167  Recall:0.9032  Specificity:0.9280 Precision:0.9245  Epoch:24\n",
      "-----fold 6-----\n",
      "Train distribution: {0: 6432, 1: 6192}  Total number: 12624\n",
      "Val distribution:   {0: 45, 1: 43}      Total number: 88\n",
      "parameter numbers: 114265\n"
     ]
    },
    {
     "name": "stderr",
     "output_type": "stream",
     "text": [
      "100%|██████████| 50/50 [04:49<00:00,  5.80s/it]\n",
      "  0%|          | 0/50 [00:00<?, ?it/s]"
     ]
    },
    {
     "name": "stdout",
     "output_type": "stream",
     "text": [
      "Time : 4 m 49 s\n",
      "BEST RESULT --> AUC:0.9409  ACC:0.9219  Recall:0.9483  Specificity:0.9000 Precision:0.8939  Epoch:48\n",
      "-----fold 7-----\n",
      "Train distribution: {0: 6432, 1: 6192}  Total number: 12624\n",
      "Val distribution:   {0: 45, 1: 43}      Total number: 88\n",
      "parameter numbers: 114265\n"
     ]
    },
    {
     "name": "stderr",
     "output_type": "stream",
     "text": [
      "100%|██████████| 50/50 [04:48<00:00,  5.78s/it]\n",
      "  0%|          | 0/50 [00:00<?, ?it/s]"
     ]
    },
    {
     "name": "stdout",
     "output_type": "stream",
     "text": [
      "Time : 4 m 48 s\n",
      "BEST RESULT --> AUC:0.9585  ACC:0.8828  Recall:0.8636  Specificity:0.9032 Precision:0.9000  Epoch:45\n",
      "-----fold 8-----\n",
      "Train distribution: {0: 6448, 1: 6192}  Total number: 12640\n",
      "Val distribution:   {0: 44, 1: 43}      Total number: 87\n",
      "parameter numbers: 114265\n"
     ]
    },
    {
     "name": "stderr",
     "output_type": "stream",
     "text": [
      "100%|██████████| 50/50 [04:48<00:00,  5.77s/it]\n",
      "  0%|          | 0/50 [00:00<?, ?it/s]"
     ]
    },
    {
     "name": "stdout",
     "output_type": "stream",
     "text": [
      "Time : 4 m 48 s\n",
      "BEST RESULT --> AUC:0.9647  ACC:0.9236  Recall:0.9559  Specificity:0.8976 Precision:0.8929  Epoch:15\n",
      "-----fold 9-----\n",
      "Train distribution: {0: 6448, 1: 6192}  Total number: 12640\n",
      "Val distribution:   {0: 44, 1: 43}      Total number: 87\n",
      "parameter numbers: 114265\n"
     ]
    },
    {
     "name": "stderr",
     "output_type": "stream",
     "text": [
      "100%|██████████| 50/50 [04:49<00:00,  5.78s/it]\n",
      "  0%|          | 0/50 [00:00<?, ?it/s]"
     ]
    },
    {
     "name": "stdout",
     "output_type": "stream",
     "text": [
      "Time : 4 m 49 s\n",
      "BEST RESULT --> AUC:0.9863  ACC:0.9096  Recall:0.9500  Specificity:0.8559 Precision:0.8833  Epoch:27\n",
      "-----fold 10-----\n",
      "Train distribution: {0: 6448, 1: 6192}  Total number: 12640\n",
      "Val distribution:   {0: 44, 1: 43}      Total number: 87\n",
      "parameter numbers: 114265\n"
     ]
    },
    {
     "name": "stderr",
     "output_type": "stream",
     "text": [
      "100%|██████████| 50/50 [03:59<00:00,  4.80s/it]\n"
     ]
    },
    {
     "name": "stdout",
     "output_type": "stream",
     "text": [
      "Time : 3 m 59 s\n",
      "BEST RESULT --> AUC:0.9946  ACC:0.9609  Recall:0.9559  Specificity:0.9667 Precision:0.9697  Epoch:15\n",
      "FINAL RESULT --> AUC: 0.9675  ACC: 0.9159  Recall: 0.9209  Specificity: 0.9144  Precision: 0.9114\n",
      "RLN\n"
     ]
    },
    {
     "name": "stderr",
     "output_type": "stream",
     "text": [
      "\r",
      "  0%|          | 0/50 [00:00<?, ?it/s]"
     ]
    },
    {
     "name": "stdout",
     "output_type": "stream",
     "text": [
      "Input dimension: (3, 2, 32, 32)\n",
      "-----fold 1-----\n",
      "Train distribution: {0: 6432, 1: 6192}  Total number: 12624\n",
      "Val distribution:   {0: 45, 1: 43}      Total number: 88\n",
      "parameter numbers: 114265\n"
     ]
    },
    {
     "name": "stderr",
     "output_type": "stream",
     "text": [
      "100%|██████████| 50/50 [02:53<00:00,  3.48s/it]\n",
      "  0%|          | 0/50 [00:00<?, ?it/s]"
     ]
    },
    {
     "name": "stdout",
     "output_type": "stream",
     "text": [
      "Time : 2 m 53 s\n",
      "BEST RESULT --> AUC:0.9507  ACC:0.8932  Recall:0.9375  Specificity:0.8522 Precision:0.8583  Epoch:26\n",
      "-----fold 2-----\n",
      "Train distribution: {0: 6432, 1: 6192}  Total number: 12624\n",
      "Val distribution:   {0: 45, 1: 43}      Total number: 88\n",
      "parameter numbers: 114265\n"
     ]
    },
    {
     "name": "stderr",
     "output_type": "stream",
     "text": [
      "100%|██████████| 50/50 [02:54<00:00,  3.48s/it]\n",
      "  0%|          | 0/50 [00:00<?, ?it/s]"
     ]
    },
    {
     "name": "stdout",
     "output_type": "stream",
     "text": [
      "Time : 2 m 54 s\n",
      "BEST RESULT --> AUC:0.9683  ACC:0.9609  Recall:0.9375  Specificity:0.9844 Precision:0.9828  Epoch:27\n",
      "-----fold 3-----\n",
      "Train distribution: {0: 6432, 1: 6192}  Total number: 12624\n",
      "Val distribution:   {0: 45, 1: 43}      Total number: 88\n",
      "parameter numbers: 114265\n"
     ]
    },
    {
     "name": "stderr",
     "output_type": "stream",
     "text": [
      "100%|██████████| 50/50 [02:54<00:00,  3.48s/it]\n",
      "  0%|          | 0/50 [00:00<?, ?it/s]"
     ]
    },
    {
     "name": "stdout",
     "output_type": "stream",
     "text": [
      "Time : 2 m 54 s\n",
      "BEST RESULT --> AUC:0.9770  ACC:0.9453  Recall:0.9355  Specificity:0.9545 Precision:0.9500  Epoch:18\n",
      "-----fold 4-----\n",
      "Train distribution: {0: 6432, 1: 6192}  Total number: 12624\n",
      "Val distribution:   {0: 45, 1: 43}      Total number: 88\n",
      "parameter numbers: 114265\n"
     ]
    },
    {
     "name": "stderr",
     "output_type": "stream",
     "text": [
      "100%|██████████| 50/50 [02:54<00:00,  3.49s/it]\n",
      "  0%|          | 0/50 [00:00<?, ?it/s]"
     ]
    },
    {
     "name": "stdout",
     "output_type": "stream",
     "text": [
      "Time : 2 m 54 s\n",
      "BEST RESULT --> AUC:0.9849  ACC:0.9531  Recall:0.9688  Specificity:0.9375 Precision:0.9412  Epoch:23\n",
      "-----fold 5-----\n",
      "Train distribution: {0: 6432, 1: 6192}  Total number: 12624\n",
      "Val distribution:   {0: 45, 1: 43}      Total number: 88\n",
      "parameter numbers: 114265\n"
     ]
    },
    {
     "name": "stderr",
     "output_type": "stream",
     "text": [
      "100%|██████████| 50/50 [02:53<00:00,  3.47s/it]\n",
      "  0%|          | 0/50 [00:00<?, ?it/s]"
     ]
    },
    {
     "name": "stdout",
     "output_type": "stream",
     "text": [
      "Time : 2 m 53 s\n",
      "BEST RESULT --> AUC:0.9706  ACC:0.9401  Recall:0.9516  Specificity:0.9280 Precision:0.9282  Epoch:10\n",
      "-----fold 6-----\n",
      "Train distribution: {0: 6432, 1: 6192}  Total number: 12624\n",
      "Val distribution:   {0: 45, 1: 43}      Total number: 88\n",
      "parameter numbers: 114265\n"
     ]
    },
    {
     "name": "stderr",
     "output_type": "stream",
     "text": [
      "100%|██████████| 50/50 [02:54<00:00,  3.50s/it]\n",
      "  0%|          | 0/50 [00:00<?, ?it/s]"
     ]
    },
    {
     "name": "stdout",
     "output_type": "stream",
     "text": [
      "Time : 2 m 54 s\n",
      "BEST RESULT --> AUC:0.9496  ACC:0.9089  Recall:0.9655  Specificity:0.8500 Precision:0.8637  Epoch:48\n",
      "-----fold 7-----\n",
      "Train distribution: {0: 6432, 1: 6192}  Total number: 12624\n",
      "Val distribution:   {0: 45, 1: 43}      Total number: 88\n",
      "parameter numbers: 114265\n"
     ]
    },
    {
     "name": "stderr",
     "output_type": "stream",
     "text": [
      "100%|██████████| 50/50 [02:53<00:00,  3.47s/it]\n",
      "  0%|          | 0/50 [00:00<?, ?it/s]"
     ]
    },
    {
     "name": "stdout",
     "output_type": "stream",
     "text": [
      "Time : 2 m 53 s\n",
      "BEST RESULT --> AUC:0.9467  ACC:0.9062  Recall:0.9091  Specificity:0.9032 Precision:0.9091  Epoch:45\n",
      "-----fold 8-----\n",
      "Train distribution: {0: 6448, 1: 6192}  Total number: 12640\n",
      "Val distribution:   {0: 44, 1: 43}      Total number: 87\n",
      "parameter numbers: 114265\n"
     ]
    },
    {
     "name": "stderr",
     "output_type": "stream",
     "text": [
      "100%|██████████| 50/50 [02:55<00:00,  3.50s/it]\n",
      "  0%|          | 0/50 [00:00<?, ?it/s]"
     ]
    },
    {
     "name": "stdout",
     "output_type": "stream",
     "text": [
      "Time : 2 m 55 s\n",
      "BEST RESULT --> AUC:0.9635  ACC:0.9236  Recall:0.9677  Specificity:0.8788 Precision:0.8880  Epoch:12\n",
      "-----fold 9-----\n",
      "Train distribution: {0: 6448, 1: 6192}  Total number: 12640\n",
      "Val distribution:   {0: 44, 1: 43}      Total number: 87\n",
      "parameter numbers: 114265\n"
     ]
    },
    {
     "name": "stderr",
     "output_type": "stream",
     "text": [
      "100%|██████████| 50/50 [02:53<00:00,  3.47s/it]\n",
      "  0%|          | 0/50 [00:00<?, ?it/s]"
     ]
    },
    {
     "name": "stdout",
     "output_type": "stream",
     "text": [
      "Time : 2 m 53 s\n",
      "BEST RESULT --> AUC:0.9868  ACC:0.9236  Recall:0.9833  Specificity:0.8618 Precision:0.8786  Epoch:24\n",
      "-----fold 10-----\n",
      "Train distribution: {0: 6448, 1: 6192}  Total number: 12640\n",
      "Val distribution:   {0: 44, 1: 43}      Total number: 87\n",
      "parameter numbers: 114265\n"
     ]
    },
    {
     "name": "stderr",
     "output_type": "stream",
     "text": [
      "100%|██████████| 50/50 [02:53<00:00,  3.48s/it]\n"
     ]
    },
    {
     "name": "stdout",
     "output_type": "stream",
     "text": [
      "Time : 2 m 53 s\n",
      "BEST RESULT --> AUC:0.9931  ACC:0.9688  Recall:0.9412  Specificity:1.0000 Precision:1.0000  Epoch:10\n",
      "FINAL RESULT --> AUC: 0.9691  ACC: 0.9324  Recall: 0.9498  Specificity: 0.9150  Precision: 0.9200\n",
      "RP\n"
     ]
    },
    {
     "name": "stderr",
     "output_type": "stream",
     "text": [
      "\r",
      "  0%|          | 0/50 [00:00<?, ?it/s]"
     ]
    },
    {
     "name": "stdout",
     "output_type": "stream",
     "text": [
      "Input dimension: (3, 2, 32, 32)\n",
      "-----fold 1-----\n",
      "Train distribution: {0: 6432, 1: 6192}  Total number: 12624\n",
      "Val distribution:   {0: 45, 1: 43}      Total number: 88\n",
      "parameter numbers: 114265\n"
     ]
    },
    {
     "name": "stderr",
     "output_type": "stream",
     "text": [
      "100%|██████████| 50/50 [02:54<00:00,  3.48s/it]\n",
      "  0%|          | 0/50 [00:00<?, ?it/s]"
     ]
    },
    {
     "name": "stdout",
     "output_type": "stream",
     "text": [
      "Time : 2 m 54 s\n",
      "BEST RESULT --> AUC:0.9385  ACC:0.8854  Recall:0.9286  Specificity:0.8481 Precision:0.8498  Epoch:11\n",
      "-----fold 2-----\n",
      "Train distribution: {0: 6432, 1: 6192}  Total number: 12624\n",
      "Val distribution:   {0: 45, 1: 43}      Total number: 88\n",
      "parameter numbers: 114265\n"
     ]
    },
    {
     "name": "stderr",
     "output_type": "stream",
     "text": [
      "100%|██████████| 50/50 [02:53<00:00,  3.48s/it]\n",
      "  0%|          | 0/50 [00:00<?, ?it/s]"
     ]
    },
    {
     "name": "stdout",
     "output_type": "stream",
     "text": [
      "Time : 2 m 53 s\n",
      "BEST RESULT --> AUC:0.9692  ACC:0.9453  Recall:0.9032  Specificity:0.9848 Precision:0.9808  Epoch:24\n",
      "-----fold 3-----\n",
      "Train distribution: {0: 6432, 1: 6192}  Total number: 12624\n",
      "Val distribution:   {0: 45, 1: 43}      Total number: 88\n",
      "parameter numbers: 114265\n"
     ]
    },
    {
     "name": "stderr",
     "output_type": "stream",
     "text": [
      "100%|██████████| 50/50 [02:52<00:00,  3.46s/it]\n",
      "  0%|          | 0/50 [00:00<?, ?it/s]"
     ]
    },
    {
     "name": "stdout",
     "output_type": "stream",
     "text": [
      "Time : 2 m 52 s\n",
      "BEST RESULT --> AUC:0.9741  ACC:0.9245  Recall:0.9194  Specificity:0.9280 Precision:0.9258  Epoch:15\n",
      "-----fold 4-----\n",
      "Train distribution: {0: 6432, 1: 6192}  Total number: 12624\n",
      "Val distribution:   {0: 45, 1: 43}      Total number: 88\n",
      "parameter numbers: 114265\n"
     ]
    },
    {
     "name": "stderr",
     "output_type": "stream",
     "text": [
      "100%|██████████| 50/50 [02:53<00:00,  3.46s/it]\n",
      "  0%|          | 0/50 [00:00<?, ?it/s]"
     ]
    },
    {
     "name": "stdout",
     "output_type": "stream",
     "text": [
      "Time : 2 m 53 s\n",
      "BEST RESULT --> AUC:0.9824  ACC:0.9531  Recall:0.9677  Specificity:0.9394 Precision:0.9394  Epoch:15\n",
      "-----fold 5-----\n",
      "Train distribution: {0: 6432, 1: 6192}  Total number: 12624\n",
      "Val distribution:   {0: 45, 1: 43}      Total number: 88\n",
      "parameter numbers: 114265\n"
     ]
    },
    {
     "name": "stderr",
     "output_type": "stream",
     "text": [
      "100%|██████████| 50/50 [02:53<00:00,  3.47s/it]\n",
      "  0%|          | 0/50 [00:00<?, ?it/s]"
     ]
    },
    {
     "name": "stdout",
     "output_type": "stream",
     "text": [
      "Time : 2 m 53 s\n",
      "BEST RESULT --> AUC:0.9795  ACC:0.9453  Recall:0.9194  Specificity:0.9697 Precision:0.9643  Epoch:16\n",
      "-----fold 6-----\n",
      "Train distribution: {0: 6432, 1: 6192}  Total number: 12624\n",
      "Val distribution:   {0: 45, 1: 43}      Total number: 88\n",
      "parameter numbers: 114265\n"
     ]
    },
    {
     "name": "stderr",
     "output_type": "stream",
     "text": [
      "100%|██████████| 50/50 [02:53<00:00,  3.48s/it]\n",
      "  0%|          | 0/50 [00:00<?, ?it/s]"
     ]
    },
    {
     "name": "stdout",
     "output_type": "stream",
     "text": [
      "Time : 2 m 53 s\n",
      "BEST RESULT --> AUC:0.9385  ACC:0.9141  Recall:0.9531  Specificity:0.8750 Precision:0.8919  Epoch:40\n",
      "-----fold 7-----\n",
      "Train distribution: {0: 6432, 1: 6192}  Total number: 12624\n",
      "Val distribution:   {0: 45, 1: 43}      Total number: 88\n",
      "parameter numbers: 114265\n"
     ]
    },
    {
     "name": "stderr",
     "output_type": "stream",
     "text": [
      "100%|██████████| 50/50 [02:54<00:00,  3.49s/it]\n",
      "  0%|          | 0/50 [00:00<?, ?it/s]"
     ]
    },
    {
     "name": "stdout",
     "output_type": "stream",
     "text": [
      "Time : 2 m 54 s\n",
      "BEST RESULT --> AUC:0.9449  ACC:0.8880  Recall:0.8576  Specificity:0.8970 Precision:0.9062  Epoch:25\n",
      "-----fold 8-----\n",
      "Train distribution: {0: 6448, 1: 6192}  Total number: 12640\n",
      "Val distribution:   {0: 44, 1: 43}      Total number: 87\n",
      "parameter numbers: 114265\n"
     ]
    },
    {
     "name": "stderr",
     "output_type": "stream",
     "text": [
      "100%|██████████| 50/50 [02:53<00:00,  3.46s/it]\n",
      "  0%|          | 0/50 [00:00<?, ?it/s]"
     ]
    },
    {
     "name": "stdout",
     "output_type": "stream",
     "text": [
      "Time : 2 m 53 s\n",
      "BEST RESULT --> AUC:0.9588  ACC:0.9158  Recall:0.9559  Specificity:0.8810 Precision:0.8806  Epoch:34\n",
      "-----fold 9-----\n",
      "Train distribution: {0: 6448, 1: 6192}  Total number: 12640\n",
      "Val distribution:   {0: 44, 1: 43}      Total number: 87\n",
      "parameter numbers: 114265\n"
     ]
    },
    {
     "name": "stderr",
     "output_type": "stream",
     "text": [
      "100%|██████████| 50/50 [02:54<00:00,  3.49s/it]\n",
      "  0%|          | 0/50 [00:00<?, ?it/s]"
     ]
    },
    {
     "name": "stdout",
     "output_type": "stream",
     "text": [
      "Time : 2 m 54 s\n",
      "BEST RESULT --> AUC:0.9838  ACC:0.9297  Recall:0.9559  Specificity:0.9000 Precision:0.9189  Epoch:16\n",
      "-----fold 10-----\n",
      "Train distribution: {0: 6448, 1: 6192}  Total number: 12640\n",
      "Val distribution:   {0: 44, 1: 43}      Total number: 87\n",
      "parameter numbers: 114265\n"
     ]
    },
    {
     "name": "stderr",
     "output_type": "stream",
     "text": [
      "100%|██████████| 50/50 [02:53<00:00,  3.46s/it]\n"
     ]
    },
    {
     "name": "stdout",
     "output_type": "stream",
     "text": [
      "Time : 2 m 53 s\n",
      "BEST RESULT --> AUC:0.9916  ACC:0.9531  Recall:0.9444  Specificity:0.9643 Precision:0.9706  Epoch:6\n",
      "FINAL RESULT --> AUC: 0.9661  ACC: 0.9254  Recall: 0.9305  Specificity: 0.9187  Precision: 0.9228\n",
      "SRE\n"
     ]
    },
    {
     "name": "stderr",
     "output_type": "stream",
     "text": [
      "\r",
      "  0%|          | 0/50 [00:00<?, ?it/s]"
     ]
    },
    {
     "name": "stdout",
     "output_type": "stream",
     "text": [
      "Input dimension: (3, 2, 32, 32)\n",
      "-----fold 1-----\n",
      "Train distribution: {0: 6432, 1: 6192}  Total number: 12624\n",
      "Val distribution:   {0: 45, 1: 43}      Total number: 88\n",
      "parameter numbers: 114265\n"
     ]
    },
    {
     "name": "stderr",
     "output_type": "stream",
     "text": [
      "100%|██████████| 50/50 [02:54<00:00,  3.49s/it]\n",
      "  0%|          | 0/50 [00:00<?, ?it/s]"
     ]
    },
    {
     "name": "stdout",
     "output_type": "stream",
     "text": [
      "Time : 2 m 54 s\n",
      "BEST RESULT --> AUC:0.9429  ACC:0.9010  Recall:0.9429  Specificity:0.8653 Precision:0.8634  Epoch:11\n",
      "-----fold 2-----\n",
      "Train distribution: {0: 6432, 1: 6192}  Total number: 12624\n",
      "Val distribution:   {0: 45, 1: 43}      Total number: 88\n",
      "parameter numbers: 114265\n"
     ]
    },
    {
     "name": "stderr",
     "output_type": "stream",
     "text": [
      "100%|██████████| 50/50 [02:52<00:00,  3.46s/it]\n",
      "  0%|          | 0/50 [00:00<?, ?it/s]"
     ]
    },
    {
     "name": "stdout",
     "output_type": "stream",
     "text": [
      "Time : 2 m 52 s\n",
      "BEST RESULT --> AUC:0.9614  ACC:0.9375  Recall:0.9032  Specificity:0.9697 Precision:0.9630  Epoch:24\n",
      "-----fold 3-----\n",
      "Train distribution: {0: 6432, 1: 6192}  Total number: 12624\n",
      "Val distribution:   {0: 45, 1: 43}      Total number: 88\n",
      "parameter numbers: 114265\n"
     ]
    },
    {
     "name": "stderr",
     "output_type": "stream",
     "text": [
      "100%|██████████| 50/50 [02:53<00:00,  3.48s/it]\n",
      "  0%|          | 0/50 [00:00<?, ?it/s]"
     ]
    },
    {
     "name": "stdout",
     "output_type": "stream",
     "text": [
      "Time : 2 m 53 s\n",
      "BEST RESULT --> AUC:0.9804  ACC:0.9453  Recall:0.9833  Specificity:0.9118 Precision:0.9143  Epoch:21\n",
      "-----fold 4-----\n",
      "Train distribution: {0: 6432, 1: 6192}  Total number: 12624\n",
      "Val distribution:   {0: 45, 1: 43}      Total number: 88\n",
      "parameter numbers: 114265\n"
     ]
    },
    {
     "name": "stderr",
     "output_type": "stream",
     "text": [
      "100%|██████████| 50/50 [02:53<00:00,  3.48s/it]\n",
      "  0%|          | 0/50 [00:00<?, ?it/s]"
     ]
    },
    {
     "name": "stdout",
     "output_type": "stream",
     "text": [
      "Time : 2 m 53 s\n",
      "BEST RESULT --> AUC:0.9868  ACC:0.9297  Recall:1.0000  Specificity:0.8676 Precision:0.8846  Epoch:21\n",
      "-----fold 5-----\n",
      "Train distribution: {0: 6432, 1: 6192}  Total number: 12624\n",
      "Val distribution:   {0: 45, 1: 43}      Total number: 88\n",
      "parameter numbers: 114265\n"
     ]
    },
    {
     "name": "stderr",
     "output_type": "stream",
     "text": [
      "100%|██████████| 50/50 [02:53<00:00,  3.48s/it]\n",
      "  0%|          | 0/50 [00:00<?, ?it/s]"
     ]
    },
    {
     "name": "stdout",
     "output_type": "stream",
     "text": [
      "Time : 2 m 53 s\n",
      "BEST RESULT --> AUC:0.9644  ACC:0.9453  Recall:0.9219  Specificity:0.9688 Precision:0.9655  Epoch:27\n",
      "-----fold 6-----\n",
      "Train distribution: {0: 6432, 1: 6192}  Total number: 12624\n",
      "Val distribution:   {0: 45, 1: 43}      Total number: 88\n",
      "parameter numbers: 114265\n"
     ]
    },
    {
     "name": "stderr",
     "output_type": "stream",
     "text": [
      "100%|██████████| 50/50 [02:53<00:00,  3.48s/it]\n",
      "  0%|          | 0/50 [00:00<?, ?it/s]"
     ]
    },
    {
     "name": "stdout",
     "output_type": "stream",
     "text": [
      "Time : 2 m 53 s\n",
      "BEST RESULT --> AUC:0.9599  ACC:0.9375  Recall:0.9516  Specificity:0.9242 Precision:0.9242  Epoch:12\n",
      "-----fold 7-----\n",
      "Train distribution: {0: 6432, 1: 6192}  Total number: 12624\n",
      "Val distribution:   {0: 45, 1: 43}      Total number: 88\n",
      "parameter numbers: 114265\n"
     ]
    },
    {
     "name": "stderr",
     "output_type": "stream",
     "text": [
      "100%|██████████| 50/50 [02:53<00:00,  3.47s/it]\n",
      "  0%|          | 0/50 [00:00<?, ?it/s]"
     ]
    },
    {
     "name": "stdout",
     "output_type": "stream",
     "text": [
      "Time : 2 m 53 s\n",
      "BEST RESULT --> AUC:0.9508  ACC:0.8854  Recall:0.9143  Specificity:0.8653 Precision:0.8587  Epoch:11\n",
      "-----fold 8-----\n",
      "Train distribution: {0: 6448, 1: 6192}  Total number: 12640\n",
      "Val distribution:   {0: 44, 1: 43}      Total number: 87\n",
      "parameter numbers: 114265\n"
     ]
    },
    {
     "name": "stderr",
     "output_type": "stream",
     "text": [
      "100%|██████████| 50/50 [02:53<00:00,  3.48s/it]\n",
      "  0%|          | 0/50 [00:00<?, ?it/s]"
     ]
    },
    {
     "name": "stdout",
     "output_type": "stream",
     "text": [
      "Time : 2 m 53 s\n",
      "BEST RESULT --> AUC:0.9736  ACC:0.9531  Recall:0.9677  Specificity:0.9394 Precision:0.9394  Epoch:22\n",
      "-----fold 9-----\n",
      "Train distribution: {0: 6448, 1: 6192}  Total number: 12640\n",
      "Val distribution:   {0: 44, 1: 43}      Total number: 87\n",
      "parameter numbers: 114265\n"
     ]
    },
    {
     "name": "stderr",
     "output_type": "stream",
     "text": [
      "100%|██████████| 50/50 [02:54<00:00,  3.48s/it]\n",
      "  0%|          | 0/50 [00:00<?, ?it/s]"
     ]
    },
    {
     "name": "stdout",
     "output_type": "stream",
     "text": [
      "Time : 2 m 54 s\n",
      "BEST RESULT --> AUC:0.9878  ACC:0.9609  Recall:0.9697  Specificity:0.9516 Precision:0.9559  Epoch:38\n",
      "-----fold 10-----\n",
      "Train distribution: {0: 6448, 1: 6192}  Total number: 12640\n",
      "Val distribution:   {0: 44, 1: 43}      Total number: 87\n",
      "parameter numbers: 114265\n"
     ]
    },
    {
     "name": "stderr",
     "output_type": "stream",
     "text": [
      "100%|██████████| 50/50 [02:53<00:00,  3.48s/it]\n"
     ]
    },
    {
     "name": "stdout",
     "output_type": "stream",
     "text": [
      "Time : 2 m 53 s\n",
      "BEST RESULT --> AUC:0.9886  ACC:0.9531  Recall:0.9306  Specificity:0.9821 Precision:0.9844  Epoch:6\n",
      "FINAL RESULT --> AUC: 0.9696  ACC: 0.9349  Recall: 0.9485  Specificity: 0.9246  Precision: 0.9253\n",
      "COA\n"
     ]
    },
    {
     "name": "stderr",
     "output_type": "stream",
     "text": [
      "\r",
      "  0%|          | 0/50 [00:00<?, ?it/s]"
     ]
    },
    {
     "name": "stdout",
     "output_type": "stream",
     "text": [
      "Input dimension: (3, 2, 32, 32)\n",
      "-----fold 1-----\n",
      "Train distribution: {0: 6432, 1: 6192}  Total number: 12624\n",
      "Val distribution:   {0: 45, 1: 43}      Total number: 88\n",
      "parameter numbers: 114265\n"
     ]
    },
    {
     "name": "stderr",
     "output_type": "stream",
     "text": [
      "100%|██████████| 50/50 [02:54<00:00,  3.48s/it]\n",
      "  0%|          | 0/50 [00:00<?, ?it/s]"
     ]
    },
    {
     "name": "stdout",
     "output_type": "stream",
     "text": [
      "Time : 2 m 54 s\n",
      "BEST RESULT --> AUC:0.9498  ACC:0.8854  Recall:0.9286  Specificity:0.8481 Precision:0.8498  Epoch:11\n",
      "-----fold 2-----\n",
      "Train distribution: {0: 6432, 1: 6192}  Total number: 12624\n",
      "Val distribution:   {0: 45, 1: 43}      Total number: 88\n",
      "parameter numbers: 114265\n"
     ]
    },
    {
     "name": "stderr",
     "output_type": "stream",
     "text": [
      "100%|██████████| 50/50 [02:54<00:00,  3.49s/it]\n",
      "  0%|          | 0/50 [00:00<?, ?it/s]"
     ]
    },
    {
     "name": "stdout",
     "output_type": "stream",
     "text": [
      "Time : 2 m 54 s\n",
      "BEST RESULT --> AUC:0.9609  ACC:0.9453  Recall:0.9194  Specificity:0.9697 Precision:0.9643  Epoch:10\n",
      "-----fold 3-----\n",
      "Train distribution: {0: 6432, 1: 6192}  Total number: 12624\n",
      "Val distribution:   {0: 45, 1: 43}      Total number: 88\n",
      "parameter numbers: 114265\n"
     ]
    },
    {
     "name": "stderr",
     "output_type": "stream",
     "text": [
      "100%|██████████| 50/50 [02:54<00:00,  3.49s/it]\n",
      "  0%|          | 0/50 [00:00<?, ?it/s]"
     ]
    },
    {
     "name": "stdout",
     "output_type": "stream",
     "text": [
      "Time : 2 m 54 s\n",
      "BEST RESULT --> AUC:0.9726  ACC:0.9531  Recall:0.9194  Specificity:0.9848 Precision:0.9815  Epoch:38\n",
      "-----fold 4-----\n",
      "Train distribution: {0: 6432, 1: 6192}  Total number: 12624\n",
      "Val distribution:   {0: 45, 1: 43}      Total number: 88\n",
      "parameter numbers: 114265\n"
     ]
    },
    {
     "name": "stderr",
     "output_type": "stream",
     "text": [
      "100%|██████████| 50/50 [02:53<00:00,  3.47s/it]\n",
      "  0%|          | 0/50 [00:00<?, ?it/s]"
     ]
    },
    {
     "name": "stdout",
     "output_type": "stream",
     "text": [
      "Time : 2 m 53 s\n",
      "BEST RESULT --> AUC:0.9824  ACC:0.9375  Recall:0.9500  Specificity:0.9265 Precision:0.9219  Epoch:5\n",
      "-----fold 5-----\n",
      "Train distribution: {0: 6432, 1: 6192}  Total number: 12624\n",
      "Val distribution:   {0: 45, 1: 43}      Total number: 88\n",
      "parameter numbers: 114265\n"
     ]
    },
    {
     "name": "stderr",
     "output_type": "stream",
     "text": [
      "100%|██████████| 50/50 [02:54<00:00,  3.49s/it]\n",
      "  0%|          | 0/50 [00:00<?, ?it/s]"
     ]
    },
    {
     "name": "stdout",
     "output_type": "stream",
     "text": [
      "Time : 2 m 54 s\n",
      "BEST RESULT --> AUC:0.9756  ACC:0.9531  Recall:0.9194  Specificity:0.9848 Precision:0.9815  Epoch:24\n",
      "-----fold 6-----\n",
      "Train distribution: {0: 6432, 1: 6192}  Total number: 12624\n",
      "Val distribution:   {0: 45, 1: 43}      Total number: 88\n",
      "parameter numbers: 114265\n"
     ]
    },
    {
     "name": "stderr",
     "output_type": "stream",
     "text": [
      "100%|██████████| 50/50 [02:54<00:00,  3.49s/it]\n",
      "  0%|          | 0/50 [00:00<?, ?it/s]"
     ]
    },
    {
     "name": "stdout",
     "output_type": "stream",
     "text": [
      "Time : 2 m 54 s\n",
      "BEST RESULT --> AUC:0.9495  ACC:0.9010  Recall:0.9265  Specificity:0.8833 Precision:0.8765  Epoch:13\n",
      "-----fold 7-----\n",
      "Train distribution: {0: 6432, 1: 6192}  Total number: 12624\n",
      "Val distribution:   {0: 45, 1: 43}      Total number: 88\n",
      "parameter numbers: 114265\n"
     ]
    },
    {
     "name": "stderr",
     "output_type": "stream",
     "text": [
      "100%|██████████| 50/50 [02:53<00:00,  3.47s/it]\n",
      "  0%|          | 0/50 [00:00<?, ?it/s]"
     ]
    },
    {
     "name": "stdout",
     "output_type": "stream",
     "text": [
      "Time : 2 m 53 s\n",
      "BEST RESULT --> AUC:0.9632  ACC:0.8880  Recall:0.8777  Specificity:0.8977 Precision:0.8917  Epoch:10\n",
      "-----fold 8-----\n",
      "Train distribution: {0: 6448, 1: 6192}  Total number: 12640\n",
      "Val distribution:   {0: 44, 1: 43}      Total number: 87\n",
      "parameter numbers: 114265\n"
     ]
    },
    {
     "name": "stderr",
     "output_type": "stream",
     "text": [
      "100%|██████████| 50/50 [02:53<00:00,  3.48s/it]\n",
      "  0%|          | 0/50 [00:00<?, ?it/s]"
     ]
    },
    {
     "name": "stdout",
     "output_type": "stream",
     "text": [
      "Time : 2 m 53 s\n",
      "BEST RESULT --> AUC:0.9657  ACC:0.9375  Recall:0.9412  Specificity:0.9333 Precision:0.9412  Epoch:15\n",
      "-----fold 9-----\n",
      "Train distribution: {0: 6448, 1: 6192}  Total number: 12640\n",
      "Val distribution:   {0: 44, 1: 43}      Total number: 87\n",
      "parameter numbers: 114265\n"
     ]
    },
    {
     "name": "stderr",
     "output_type": "stream",
     "text": [
      "100%|██████████| 50/50 [02:53<00:00,  3.48s/it]\n",
      "  0%|          | 0/50 [00:00<?, ?it/s]"
     ]
    },
    {
     "name": "stdout",
     "output_type": "stream",
     "text": [
      "Time : 2 m 53 s\n",
      "BEST RESULT --> AUC:0.9848  ACC:0.9609  Recall:0.9848  Specificity:0.9355 Precision:0.9444  Epoch:47\n",
      "-----fold 10-----\n",
      "Train distribution: {0: 6448, 1: 6192}  Total number: 12640\n",
      "Val distribution:   {0: 44, 1: 43}      Total number: 87\n",
      "parameter numbers: 114265\n"
     ]
    },
    {
     "name": "stderr",
     "output_type": "stream",
     "text": [
      "100%|██████████| 50/50 [02:53<00:00,  3.48s/it]"
     ]
    },
    {
     "name": "stdout",
     "output_type": "stream",
     "text": [
      "Time : 2 m 53 s\n",
      "BEST RESULT --> AUC:0.9878  ACC:0.9609  Recall:0.9531  Specificity:0.9688 Precision:0.9677  Epoch:2\n",
      "FINAL RESULT --> AUC: 0.9692  ACC: 0.9323  Recall: 0.9320  Specificity: 0.9333  Precision: 0.9320\n"
     ]
    },
    {
     "name": "stderr",
     "output_type": "stream",
     "text": [
      "\n"
     ]
    }
   ],
   "source": [
    "import warnings\n",
    "warnings.filterwarnings(\"ignore\")\n",
    "\n",
    "f = open(data_folder + \"/other/textutr_performance.txt\", \"w\")\n",
    "datasets = [\"ENT\", \"HOM\", \"GLN\", \"RLN\", \"RP\", \"SRE\", \"COA\"]\n",
    "all_datasets_roc = []\n",
    "\n",
    "for dataset in datasets:\n",
    "    print(dataset)\n",
    "    all_metric = []\n",
    "    df = pd.read_csv(data_folder + \"/final_annotation.csv\")\n",
    "    df = df[df[\"malignancy\"]!=2]\n",
    "    index = df[\"nodule_number\"].values\n",
    "\n",
    "    imgs_path = glob(data_folder + f'/multi_view/{dataset}/*.npy')\n",
    "    imgs_path.sort()\n",
    "    imgs, labels = load_data(df, index, imgs_path)\n",
    "\n",
    "    aug_path = glob(data_folder + f'/augment/{dataset}/*.npy')\n",
    "    aug_path.sort()\n",
    "    aug_imgs, aug_labels = load_data(df, index, aug_path, True)\n",
    "\n",
    "    print(f\"Input dimension: {imgs[1][0].shape}\")\n",
    "\n",
    "    with open(data_folder + \"/tenFold.pickle\", \"rb\") as f2:\n",
    "        tenFold = pickle.load(f2)    \n",
    "\n",
    "    all_roc = []\n",
    "    for i in range(10):\n",
    "        train_index = tenFold[i][\"train\"]\n",
    "        val_index = tenFold[i][\"val\"]\n",
    "        print(f\"-----fold {i+1}-----\")\n",
    "\n",
    "        train_imgs, train_labels = generate_data(aug_imgs, aug_labels, train_index)\n",
    "        val_imgs, val_labels = generate_data(imgs, labels, val_index)     \n",
    "\n",
    "        unique, counts = np.unique(train_labels, return_counts=True)\n",
    "        train_distribution = dict(zip(unique, counts))\n",
    "        unique, counts = np.unique(val_labels, return_counts=True)\n",
    "        val_distribution = dict(zip(unique, counts)) \n",
    "\n",
    "        print(f\"Train distribution: {train_distribution}  Total number: {len(train_imgs)}\")\n",
    "        print(f\"Val distribution:   {val_distribution}      Total number: {len(val_imgs)}\")\n",
    "\n",
    "        train_imgs = torch.FloatTensor(train_imgs)\n",
    "        train_labels = torch.FloatTensor(train_labels)\n",
    "        val_imgs = torch.FloatTensor(val_imgs)\n",
    "        val_labels = torch.FloatTensor(val_labels)\n",
    "\n",
    "        set_randomSeed()\n",
    "\n",
    "        train_set = TensorDataset(train_imgs, train_labels)\n",
    "        val_set = TensorDataset(val_imgs, val_labels)\n",
    "\n",
    "        batch_size = 256\n",
    "        train_loader = DataLoader(train_set, batch_size=batch_size, shuffle=True)\n",
    "        batch_size = 64\n",
    "        val_loader = DataLoader(val_set, batch_size=batch_size, shuffle=True)\n",
    "\n",
    "        fold_metric, roc = train(train_loader=train_loader, val_loader=val_loader, \n",
    "                            model=MRSKNet(), lr=1e-4, epochs=50)\n",
    "        all_metric.append(fold_metric)\n",
    "        all_roc.append(roc)\n",
    "    all_datasets_roc.append(all_roc)\n",
    "    final_metric = np.mean(all_metric, axis=0)\n",
    "    print(f\"FINAL RESULT --> AUC: {final_metric[0]:.4f}  ACC: {final_metric[1]:.4f}  Recall: {final_metric[2]:.4f}\\\n",
    "  Specificity: {final_metric[3]:.4f}  Precision: {final_metric[4]:.4f}\")\n",
    "    f.write(dataset + \"\\n\")\n",
    "    f.write(f\"FINAL RESULT --> AUC: {final_metric[0]:.4f}  ACC: {final_metric[1]:.4f}  Recall: {final_metric[2]:.4f}\\\n",
    "  Specificity: {final_metric[3]:.4f}  Precision: {final_metric[4]:.4f}\")\n",
    "    f.write(\"\\n\")\n",
    "f.close()"
   ]
  },
  {
   "cell_type": "code",
   "execution_count": 5,
   "metadata": {},
   "outputs": [],
   "source": [
    "def get_mean_roc(rocc):\n",
    "    roc = rocc.copy()\n",
    "    max_len = 0\n",
    "    for r in roc:\n",
    "        if len(r[0]) > max_len:\n",
    "            max_len = len(r[0])\n",
    "    for i in range(10):\n",
    "        if len(roc[i][0]) != max_len:\n",
    "            roc[i][0] = np.insert(roc[i][0], max_len//2, (roc[i][0][(max_len//2)-1]+roc[i][0][max_len//2])/2)\n",
    "            roc[i][1] = np.insert(roc[i][1], max_len//2, (roc[i][1][(max_len//2)-1]+roc[i][1][max_len//2])/2)\n",
    "    return np.mean(roc, axis=0)"
   ]
  },
  {
   "cell_type": "code",
   "execution_count": 6,
   "metadata": {},
   "outputs": [
    {
     "data": {
      "image/png": "[encoded data removed]",
      "text/plain": [
       "<Figure size 960x960 with 1 Axes>"
      ]
     },
     "metadata": {
      "needs_background": "light"
     },
     "output_type": "display_data"
    }
   ],
   "source": [
    "markers = [\"o\", \"^\", \"s\", \"*\", \"p\", \"X\", \"d\", \"_\"]\n",
    "# linestyle=\"dotted\", marker=markers[i],\n",
    "plt.figure(figsize=(8, 8), dpi=120)\n",
    "lw = 2\n",
    "for i in range(7):\n",
    "    if i == 1:\n",
    "        mroc = get_mean_roc(all_datasets_roc[i])\n",
    "        plt.plot(mroc[0], mroc[1], color=\"blue\", lw=lw,\n",
    "                 label=f'{datasets[i]} (auc = {mroc[2]*100:.2f}%)')\n",
    "    else:    \n",
    "        mroc = get_mean_roc(all_datasets_roc[i])\n",
    "        plt.plot(mroc[0], mroc[1], alpha=0.3, lw=lw, linestyle=\"dotted\", marker=markers[i], markersize=2,\n",
    "                 label=f'{datasets[i]} (auc = {mroc[2]*100:.2f}%)')\n",
    "plt.plot()\n",
    "plt.xlim([0.0, 1.0])\n",
    "plt.ylim([0.0, 1.0])\n",
    "plt.xlabel('False Positive Rate')\n",
    "plt.ylabel('True Positive Rate')\n",
    "plt.legend(loc=\"lower right\")\n",
    "plt.savefig(data_folder + \"/other/auc_texture.tiff\")\n",
    "plt.show()"
   ]
  }
 ],
 "metadata": {
  "kernelspec": {
   "display_name": "Python 3",
   "language": "python",
   "name": "python3"
  },
  "language_info": {
   "codemirror_mode": {
    "name": "ipython",
    "version": 3
   },
   "file_extension": ".py",
   "mimetype": "text/x-python",
   "name": "python",
   "nbconvert_exporter": "python",
   "pygments_lexer": "ipython3",
   "version": "3.8.5"
  }
 },
 "nbformat": 4,
 "nbformat_minor": 2
}
