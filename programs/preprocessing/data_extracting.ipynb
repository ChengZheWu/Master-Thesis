{
 "cells": [
  {
   "cell_type": "markdown",
   "metadata": {},
   "source": [
    "# 生成 annotation.csv & coords.pickle"
   ]
  },
  {
   "cell_type": "code",
   "execution_count": 1,
   "metadata": {},
   "outputs": [],
   "source": [
    "import os\n",
    "import numpy as np\n",
    "import pandas as pd\n",
    "import xml.etree.ElementTree as ET\n",
    "import csv\n",
    "import math\n",
    "import pickle\n",
    "from glob import glob\n",
    "from tqdm import tqdm\n",
    "from utils import *\n",
    "\n",
    "lidc_folder = \"/home/cbel/Desktop/zhe/LIDC\"\n",
    "data_folder = \"/home/cbel/Desktop/zhe/data\""
   ]
  },
  {
   "cell_type": "code",
   "execution_count": 2,
   "metadata": {},
   "outputs": [
    {
     "name": "stdout",
     "output_type": "stream",
     "text": [
      "/home/cbel/Desktop/zhe/data3建立成功\n"
     ]
    }
   ],
   "source": [
    "check_folder(data_folder)"
   ]
  },
  {
   "cell_type": "code",
   "execution_count": 3,
   "metadata": {},
   "outputs": [],
   "source": [
    "# 擷取 meta.csv 中為 CT 的 uid\n",
    "\n",
    "df_meta = pd.read_csv(lidc_folder + \"/LIDC-IDRI_MetaData.csv\")  # length = 1398\n",
    "\n",
    "df_CT = df_meta[df_meta[\"Modality\"] == \"CT\"]  # length = 1018\n",
    "df_CT = df_CT.sort_values(by = [\"Patient Id\"])\n",
    "\n",
    "array_CT_seriesuid = df_meta[df_meta[\"Modality\"] == \"CT\"][\"Series UID\"].to_numpy()\n",
    "\n",
    "tmp = []\n",
    "id_uid = {}  # 1010 patient id 對應 1018 series uid\n",
    "for i in range(1018):\n",
    "    if df_CT.iloc[i][\"Patient Id\"] not in tmp:\n",
    "        tmp.append(df_CT.iloc[i][\"Patient Id\"])\n",
    "        id_uid[df_CT.iloc[i][\"Patient Id\"]] = [df_CT.iloc[i][\"Series UID\"]]\n",
    "    else:\n",
    "        id_uid[df_CT.iloc[i][\"Patient Id\"]].append(df_CT.iloc[i][\"Series UID\"])"
   ]
  },
  {
   "cell_type": "code",
   "execution_count": 4,
   "metadata": {},
   "outputs": [],
   "source": [
    "# 擷取所需要的 xml file\n",
    "\n",
    "xml_folder = lidc_folder + \"/tcia-lidc-xml\"\n",
    "\n",
    "xml_path = []\n",
    "for file in os.listdir(xml_folder):\n",
    "    if file[-3:] == \"xml\":\n",
    "        xml_path.append(xml_folder + \"/\" + file)\n",
    "    else:\n",
    "        path = glob(xml_folder + \"/\" + file + \"/*.xml\")\n",
    "        for p in path:\n",
    "            xml_path.append(p)\n",
    "\n",
    "seriesuid_xmlpath = {}\n",
    "\n",
    "tmp_uid = []\n",
    "for i in range(len(xml_path)):\n",
    "    tree = ET.parse(xml_path[i])\n",
    "    root = tree.getroot()\n",
    "    \n",
    "    for ResponseHeader in root.findall(\"{http://www.nih.gov}ResponseHeader\"):\n",
    "        seriesuid = ResponseHeader.find(\"{http://www.nih.gov}SeriesInstanceUid\").text\n",
    "        studyuid = ResponseHeader.find(\"{http://www.nih.gov}StudyInstanceUID\").text\n",
    "        if seriesuid in array_CT_seriesuid and seriesuid not in tmp_uid:\n",
    "            tmp_uid.append(seriesuid)\n",
    "            seriesuid_xmlpath[seriesuid] = xml_path[i]"
   ]
  },
  {
   "cell_type": "code",
   "execution_count": 5,
   "metadata": {},
   "outputs": [
    {
     "name": "stderr",
     "output_type": "stream",
     "text": [
      "100%|██████████| 1012/1012 [00:00<00:00, 39420.44it/s]\n"
     ]
    }
   ],
   "source": [
    "# 產生 1018 個 case 對應的 dicom path 及 series uid\n",
    "# 目錄 : dicom folder --> folders(study uid) --> folders(seried uid) --> dicom data\n",
    "\n",
    "n = 0\n",
    "case_dcmpath = {}  # case - data path, 1018 個\n",
    "case_serieduid = {}  # case - series uid, 1018 個\n",
    "dcmfolder2_case = {}  # 下方 list3.2.csv 的 data 轉換會用到\n",
    "\n",
    "for i in tqdm(range(1, 1013)):\n",
    "    patient_id = \"LIDC-IDRI-%04d\" %i\n",
    "    dcm_folder1 = glob(lidc_folder + \"/dicom/\" + patient_id + \"/*\")  # 只有 1010 個資料夾\n",
    "    if len(dcm_folder1) != 0:\n",
    "        for j in range(len(dcm_folder1)):\n",
    "            dcm_folder2 = os.listdir(dcm_folder1[j])\n",
    "            for k in range(len(dcm_folder2)):\n",
    "                file_seriesuid_5 = dcm_folder2[k][-5:]  # 1 個 file 對應 1 個 series uid(末 5 碼)\n",
    "                seriesuids = id_uid[patient_id]  # 1 個 patient 可能有 1~2 個 serieduid(case)\n",
    "                seriesuids_5 = list(map(lambda x:x[-5:], id_uid[patient_id]))  # 末 5 碼\n",
    "                if file_seriesuid_5 in seriesuids_5:\n",
    "                    n+=1\n",
    "                    case = \"%04d\" %n\n",
    "                    case_dcmpath[case] = dcm_folder1[j] + \"/\" + dcm_folder2[k]\n",
    "                    if \".\" in dcm_folder2[k]:\n",
    "                        dcm_folder2_name = dcm_folder2[k].split(\".\")[0]\n",
    "                        dcmfolder2_case[dcm_folder2_name + patient_id] = case\n",
    "                    else:\n",
    "                        dcmfolder2_case[\"0\" + patient_id] = case\n",
    "                    for x in range(len(seriesuids)):\n",
    "                        if seriesuids[x][-5:] == file_seriesuid_5:\n",
    "                            case_serieduid[case] = seriesuids[x]"
   ]
  },
  {
   "cell_type": "code",
   "execution_count": 6,
   "metadata": {},
   "outputs": [
    {
     "name": "stdout",
     "output_type": "stream",
     "text": [
      "868 patients to 876 cases\n"
     ]
    }
   ],
   "source": [
    "# 將 list3.2.csv 的 case 從 1~1012 轉換為 1~1018\n",
    "\n",
    "df_list = pd.read_csv(lidc_folder + \"/list3.2.csv\")\n",
    "dflist_casenumber = len(np.unique(df_list[\"case\"]))\n",
    "new_list = df_list\n",
    "new_cases = []\n",
    "\n",
    "for i in range(len(df_list)):\n",
    "    old_case = df_list[\"case\"][i]\n",
    "    patient_id = \"LIDC-IDRI-%04d\" %old_case\n",
    "    filename = str(df_list[\"scan\"][i])\n",
    "    new_case = int(dcmfolder2_case[filename + patient_id])  # 找出對應的編號\n",
    "    new_cases.append(new_case)\n",
    "    new_list.loc[i, \"case\"] = new_case\n",
    "new_list.to_csv(lidc_folder + \"/new_list.csv\", index=0)\n",
    "    \n",
    "array_newlist = new_list[\"case\"].to_numpy()\n",
    "uni_newlist = np.unique(array_newlist)\n",
    "print(\"%d patients to %d cases\" %(dflist_casenumber, len(uni_newlist)))"
   ]
  },
  {
   "cell_type": "code",
   "execution_count": 7,
   "metadata": {},
   "outputs": [
    {
     "name": "stderr",
     "output_type": "stream",
     "text": [
      "100%|██████████| 1018/1018 [00:09<00:00, 109.04it/s]\n"
     ]
    }
   ],
   "source": [
    "# parse xml\n",
    "\n",
    "case_id_ma = {}  # 883 cases\n",
    "case_id_uid_coord = {}  # 883 cases\n",
    "case_id_uid_anchor = {}  # 883 cases\n",
    "uid_z = {}\n",
    "a = []\n",
    "\n",
    "for i in tqdm(range(1018)):\n",
    "    case = \"%04d\" %(i+1)\n",
    "#     print(case)\n",
    "    xml_path = seriesuid_xmlpath[case_serieduid[case]]\n",
    "#     print(xml_path)\n",
    "\n",
    "    tree = ET.parse(xml_path)\n",
    "    root = tree.getroot()\n",
    "\n",
    "    id_ma = {} # nodule id - malignancy\n",
    "    id_uid_coord = {} # nodule id - sop uid\n",
    "    id_uid_anchor = {} # nodule id - sop uid\n",
    "    for readingSession in root.findall(\"{http://www.nih.gov}readingSession\"): # doctor\n",
    "\n",
    "        for unblindedReadNodule in readingSession.findall(\"{http://www.nih.gov}unblindedReadNodule\"): # nodules\n",
    "\n",
    "            noduleID = unblindedReadNodule.find(\"{http://www.nih.gov}noduleID\").text\n",
    "            if noduleID[0] == \"0\" and len(noduleID) > 1:\n",
    "                    noduleID = cut_0(noduleID)\n",
    "#             print(\"noduleID:\", noduleID)\n",
    "\n",
    "            uid_coord = {}\n",
    "            uid_anchor = {}\n",
    "            for characteristics in unblindedReadNodule.findall(\"{http://www.nih.gov}characteristics\"): # malignancy\n",
    "                if characteristics.find(\"{http://www.nih.gov}malignancy\") != None:\n",
    "                    malignancy = int(characteristics.find(\"{http://www.nih.gov}malignancy\").text)                   \n",
    "                    id_ma[noduleID] = malignancy\n",
    "#                     print(\"malignancy:\", malignancy)\n",
    "\n",
    "                    for roi in unblindedReadNodule.findall(\"{http://www.nih.gov}roi\"): # roi\n",
    "                        z = roi.find(\"{http://www.nih.gov}imageZposition\").text\n",
    "                        sop_uid = roi.find(\"{http://www.nih.gov}imageSOP_UID\").text\n",
    "\n",
    "                        x_coords = []\n",
    "                        y_coords = []\n",
    "                        xy_coords = []\n",
    "                        for edgeMap in roi.findall(\"{http://www.nih.gov}edgeMap\"): # x, y\n",
    "                            x = int(edgeMap.find(\"{http://www.nih.gov}xCoord\").text)\n",
    "                            y =  int(edgeMap.find(\"{http://www.nih.gov}yCoord\").text)\n",
    "                            x_coords.append(x)\n",
    "                            y_coords.append(y)\n",
    "                            xy_coords.append([x, y])\n",
    "                        x_max = get_max_coord(x_coords)\n",
    "                        y_max = get_max_coord(y_coords)\n",
    "                        x_min = get_min_coord(x_coords)\n",
    "                        y_min = get_min_coord(y_coords)\n",
    "\n",
    "                        uid_coord[sop_uid] = xy_coords\n",
    "                        uid_anchor[sop_uid] = [x_max+1, y_max+1, x_min-1, y_min-1]\n",
    "                        uid_z[sop_uid] = z\n",
    "            if uid_coord or uid_anchor != {}:\n",
    "                id_uid_coord[noduleID] = uid_coord\n",
    "                id_uid_anchor[noduleID] = uid_anchor\n",
    "\n",
    "    #     print(\"-------------doctor-------------\")\n",
    "    if id_ma or id_uid_anchor or id_uid_coord != {}:\n",
    "        a.append(int(case))\n",
    "        case_id_ma[case] = id_ma\n",
    "        case_id_uid_coord[case] = id_uid_coord\n",
    "        case_id_uid_anchor[case] = id_uid_anchor"
   ]
  },
  {
   "cell_type": "code",
   "execution_count": 8,
   "metadata": {},
   "outputs": [
    {
     "name": "stderr",
     "output_type": "stream",
     "text": [
      "100%|██████████| 876/876 [00:02<00:00, 390.61it/s]\n"
     ]
    }
   ],
   "source": [
    "# 產生 classification annotation.csv (3 mm <= nodule <= 30 mm)\n",
    "\n",
    "cla_file = open(data_folder + \"/annotation.csv\", \"w\")\n",
    "writer = csv.writer(cla_file)\n",
    "writer.writerow([\"case\", \"nodule_number_percase\", \"slice_number_pernodule\", \"total_nodule_number\" ,\"total_slice_number\", \n",
    "                 \"radiologists\", \"SOP_UID\", \"malignancy\", \"z\", \"xmax\", \"ymax\", \"xmin\", \"ymin\", \"diam\"])\n",
    "\n",
    "case_noduleids = {}\n",
    "case_number_sopuid_coords = {}\n",
    "\n",
    "total_slice_number = 0\n",
    "total_nodule_number = 0\n",
    "\n",
    "for i in tqdm(range(len(uni_newlist))):\n",
    "    case = \"%04d\" %uni_newlist[i]\n",
    "    case_unit = new_list[new_list[\"case\"] == int(case)]\n",
    "    nodule_number_percase = 0\n",
    "    case_noduleids[case] = []\n",
    "    number_sopuid_coords = {}\n",
    "    for j in range(len(case_unit)): # traverse 每個 case 的 nodule 數量\n",
    "        nodule_same = []\n",
    "        ma_subset = []\n",
    "        diam = case_unit.iloc[j][\"eq. diam.\"]\n",
    "        for k in range(9, 13): # 查看有幾個醫生發現\n",
    "            noduleid = str(case_unit.iloc[j][k])\n",
    "            if noduleid != \"nan\" and noduleid in case_id_ma[case].keys():\n",
    "                malignancy = case_id_ma[case][noduleid]\n",
    "                nodule_same.append(noduleid)\n",
    "                ma_subset.append(malignancy)\n",
    "        if len(ma_subset) >= 3: # 擷取至少 x 位以上醫生發現的 nodule\n",
    "            nodule_number_percase += 1\n",
    "            total_nodule_number += 1\n",
    "            # get the median of the likelihoods of malignancy\n",
    "            cal_ma = np.median(ma_subset)\n",
    "            if cal_ma > 3:\n",
    "                malignancy = 1\n",
    "            elif cal_ma < 3:\n",
    "                malignancy = 0\n",
    "            else:\n",
    "                malignancy = 2\n",
    "            sopuid_coords = {}\n",
    "            rad_number = len(nodule_same)\n",
    "            case_noduleids[case].append(nodule_same)\n",
    "            all_uids = []  # 長度為有標註的醫生數目，裡面存放不同醫生標註的 sopuids，一樣的 sopuid 為同一張 slice\n",
    "            for noduleid in nodule_same:\n",
    "                for uid in case_id_uid_anchor[case][noduleid].keys():\n",
    "                    all_uids.append(uid)\n",
    "            # 對 1 位以上醫生標註的 sopuids 取交集\n",
    "            in_uids = []\n",
    "            uniques, counuts = np.unique(all_uids, return_counts=True)\n",
    "            for c in range(len(counuts)):\n",
    "                if counuts[c] >= 1:\n",
    "                    in_uids.append(uniques[c])\n",
    "            slice_number_pernodule = 0\n",
    "            for in_uid in in_uids:\n",
    "                slice_number_pernodule += 1\n",
    "                total_slice_number += 1\n",
    "                all_anchor = []\n",
    "                all_coords = []\n",
    "                for noduleid in nodule_same:\n",
    "                    for uid in case_id_uid_anchor[case][noduleid].keys():\n",
    "                        if uid == in_uid:\n",
    "                            anchor = case_id_uid_anchor[case][noduleid][uid]\n",
    "                            coords = case_id_uid_coord[case][noduleid][uid]\n",
    "                            all_anchor.append(anchor)\n",
    "                            all_coords.append(coords)\n",
    "                xmax, ymax, xmin, ymin, = list(map(lambda x:np.ceil(x), np.mean(all_anchor, axis=0)))  # 取平均的 max, min\n",
    "                z = uid_z[in_uid]\n",
    "                sopuid_coords[in_uid] = all_coords\n",
    "                writer.writerow([case, nodule_number_percase, slice_number_pernodule, total_nodule_number, total_slice_number,\n",
    "                                 rad_number, in_uid, malignancy, z, xmax, ymax, xmin, ymin, diam])  \n",
    "            if sopuid_coords != {}:\n",
    "                number_sopuid_coords[nodule_number_percase] = sopuid_coords\n",
    "    if number_sopuid_coords != {}:\n",
    "        case_number_sopuid_coords[case] = number_sopuid_coords\n",
    "cla_file.close()\n",
    "\n",
    "cla_pickle = open(data_folder + \"/coords.pickle\", \"wb\")\n",
    "pickle.dump(case_number_sopuid_coords, cla_pickle)\n",
    "cla_pickle.close()"
   ]
  }
 ],
 "metadata": {
  "kernelspec": {
   "display_name": "Python 3",
   "language": "python",
   "name": "python3"
  },
  "language_info": {
   "codemirror_mode": {
    "name": "ipython",
    "version": 3
   },
   "file_extension": ".py",
   "mimetype": "text/x-python",
   "name": "python",
   "nbconvert_exporter": "python",
   "pygments_lexer": "ipython3",
   "version": "3.8.5"
  }
 },
 "nbformat": 4,
 "nbformat_minor": 4
}
