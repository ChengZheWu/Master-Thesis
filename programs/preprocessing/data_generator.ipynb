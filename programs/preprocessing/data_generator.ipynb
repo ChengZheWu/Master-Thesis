{
 "cells": [
  {
   "cell_type": "code",
   "execution_count": 1,
   "metadata": {},
   "outputs": [
    {
     "name": "stdout",
     "output_type": "stream",
     "text": [
      "/home/cbel/Desktop/zhe/data2/images建立成功\n"
     ]
    }
   ],
   "source": [
    "import os\n",
    "import numpy as np\n",
    "import pandas as pd\n",
    "import pydicom\n",
    "import scipy.ndimage\n",
    "import matplotlib.pyplot as plt\n",
    "import csv\n",
    "import cv2\n",
    "import pickle\n",
    "\n",
    "from glob import glob\n",
    "from utils import *\n",
    "from tqdm import tqdm\n",
    "from multiprocessing import Pool\n",
    "\n",
    "lidc_folder = \"/home/cbel/Desktop/zhe/LIDC\"\n",
    "data_folder = \"/home/cbel/Desktop/zhe/data\"\n",
    "\n",
    "images_path = data_folder + \"/images\"\n",
    "check_folder(images_path)"
   ]
  },
  {
   "cell_type": "code",
   "execution_count": 2,
   "metadata": {},
   "outputs": [],
   "source": [
    "# 擷取 meta.csv 中為 CT 的 uid\n",
    "\n",
    "df_meta = pd.read_csv(lidc_folder + \"/LIDC-IDRI_MetaData.csv\") # length = 1398\n",
    "\n",
    "df_CT = df_meta[df_meta[\"Modality\"] == \"CT\"]\n",
    "df_CT = df_CT.sort_values(by = [\"Patient Id\"])\n",
    "\n",
    "array_CT_seriesuid = df_meta[df_meta[\"Modality\"] == \"CT\"][\"Series UID\"].to_numpy()\n",
    "\n",
    "tmp = []\n",
    "patientid_uid5 = {} # patient id - series uid (末五碼)\n",
    "for i in range(1018):\n",
    "    if df_CT.iloc[i][\"Patient Id\"] not in tmp:\n",
    "        tmp.append(df_CT.iloc[i][\"Patient Id\"])\n",
    "        patientid_uid5[df_CT.iloc[i][\"Patient Id\"]] = [df_CT.iloc[i][\"Series UID\"][-5:]]\n",
    "    else:\n",
    "        patientid_uid5[df_CT.iloc[i][\"Patient Id\"]].append(df_CT.iloc[i][\"Series UID\"][-5:])\n",
    "        \n",
    "# 找出需要的 case - dicom file\n",
    "\n",
    "case_path = {}\n",
    "\n",
    "dcm_folder1 = glob(lidc_folder + \"/dicom/*\")\n",
    "dcm_folder1.sort()\n",
    "i = 0\n",
    "for path in dcm_folder1:\n",
    "    patientid = path[-14:]\n",
    "    dcm_folder2 = glob(path + \"/*/*\")\n",
    "    for path2 in dcm_folder2:\n",
    "        if path2[-5:] in patientid_uid5[patientid]:\n",
    "            i += 1\n",
    "            case = \"%04d\" %i\n",
    "            case_path[case] = path2"
   ]
  },
  {
   "cell_type": "code",
   "execution_count": 3,
   "metadata": {
    "scrolled": true
   },
   "outputs": [
    {
     "name": "stderr",
     "output_type": "stream",
     "text": [
      " 37%|███▋      | 296/795 [22:22<34:17,  4.12s/it]  "
     ]
    },
    {
     "name": "stdout",
     "output_type": "stream",
     "text": [
      "empty mask case:0344 nodule:683\n"
     ]
    },
    {
     "name": "stderr",
     "output_type": "stream",
     "text": [
      " 40%|███▉      | 316/795 [23:32<22:15,  2.79s/it]"
     ]
    },
    {
     "name": "stdout",
     "output_type": "stream",
     "text": [
      "sopuid not match case:0370 nodule:728\n"
     ]
    },
    {
     "name": "stderr",
     "output_type": "stream",
     "text": [
      " 61%|██████    | 481/795 [33:21<14:03,  2.69s/it]"
     ]
    },
    {
     "name": "stdout",
     "output_type": "stream",
     "text": [
      "empty mask case:0589 nodule:1133\n"
     ]
    },
    {
     "name": "stderr",
     "output_type": "stream",
     "text": [
      "100%|██████████| 795/795 [51:26<00:00,  3.88s/it]\n"
     ]
    }
   ],
   "source": [
    "# generate the final calssification data and label\n",
    "\n",
    "annotation = pd.read_csv(data_folder + \"/annotation.csv\")\n",
    "\n",
    "with open(data_folder + \"/coords.pickle\", \"rb\") as file:\n",
    "    all_coords = pickle.load(file)    \n",
    "all_cases = list(all_coords.keys())\n",
    "\n",
    "final_annotation = open(data_folder + \"/final_annotation.csv\", \"w\")\n",
    "writer = csv.writer(final_annotation)\n",
    "writer.writerow([\"case\", \"diam\", \"nodule_number\", \"radiologists\", \"malignancy\"])\n",
    "\n",
    "nodule_number = 0\n",
    "check = []\n",
    "\n",
    "# traverse every case\n",
    "for i in tqdm(range(len(all_cases))):\n",
    "    case = all_cases[i]\n",
    "\n",
    "    sub_annotation = annotation[annotation[\"case\"] == int(case)]\n",
    "\n",
    "    # load dicom file\n",
    "    dcm_path = glob(case_path[case] + \"/*.dcm\")\n",
    "    dcm_path.sort()\n",
    "    dcm = load_scan(dcm_path)\n",
    "    slice_thickness = float(dcm[0][0X18, 0X50].value)  # 16進制 to 10進制\n",
    "    pixel_spacing = float(dcm[0][0X28, 0X30].value[0])\n",
    "    spacing3d = np.array([dcm[0].SliceThickness, dcm[0].PixelSpacing[0], dcm[0].PixelSpacing[1]], dtype=np.float32)\n",
    "    \n",
    "    # The HU in CT is a scale from black to white of 4096 values (12bit) and range -1024 HU to 3071 HU\n",
    "    # -1024 HU is black and represent air, 0 HU represents water, 3071 HU is white and represents densest tissue\n",
    "    img_hu = get_pixels_hu(dcm)\n",
    "\n",
    "    # traverse every nodule in one case\n",
    "    for key in all_coords[case].keys():\n",
    "        ssub_annotation = sub_annotation[sub_annotation[\"nodule_number_percase\"] == key]\n",
    "        ssub_annotation = ssub_annotation.sort_values([\"z\"])\n",
    "        annotation_z = np.round(ssub_annotation[\"z\"].to_numpy(), decimals=1)\n",
    "        diam = ssub_annotation[\"diam\"].values[0]\n",
    "        rad = max(np.array(ssub_annotation[\"radiologists\"]))\n",
    "        malignancy = ssub_annotation[\"malignancy\"].values[0]\n",
    "        max_z = max(annotation_z)\n",
    "        min_z = min(annotation_z)\n",
    "        for j in range(len(dcm)):\n",
    "            dcm_z = np.round((dcm[j][0X20, 0X32].value[2]), decimals=1)\n",
    "            if dcm_z == max_z:\n",
    "                max_z_slice = j\n",
    "            if dcm_z == min_z:\n",
    "                min_z_slice = j\n",
    "            try:\n",
    "                if max_z_slice > min_z_slice:\n",
    "                    max_slice = max_z_slice\n",
    "                    min_slice = min_z_slice\n",
    "                else:\n",
    "                    max_slice = min_z_slice\n",
    "                    min_slice = max_z_slice\n",
    "            except:\n",
    "                pass\n",
    "        length = max_slice - min_slice + 1\n",
    "\n",
    "\n",
    "        n = 0\n",
    "        mask3d = np.zeros((length, img_hu.shape[1], img_hu.shape[2]), dtype=np.uint8)\n",
    "        roi_lung = np.zeros((length, img_hu.shape[1], img_hu.shape[2]), dtype=np.int16)\n",
    "        for s in range(min_slice, max_slice+1):\n",
    "            dcm_z = np.round((dcm[s][0X20, 0X32].value[2]), decimals=1)\n",
    "            sopuid = dcm[s][0X08, 0X18].value\n",
    "\n",
    "            # generate mask\n",
    "            masks = np.zeros((img_hu.shape[1], img_hu.shape[2]), dtype=np.uint8)\n",
    "            if sopuid in ssub_annotation[\"SOP_UID\"].values:\n",
    "                coords = all_coords[case][key][sopuid]\n",
    "                sub_masks = np.zeros((len(coords), img_hu.shape[1], img_hu.shape[2]), dtype=np.uint8)\n",
    "                for k in range(len(coords)):\n",
    "                    cv2.polylines(sub_masks[k], np.int32([coords[k]]), 1, 1)\n",
    "                    cv2.fillPoly(sub_masks[k], np.int32([coords[k]]), 1)\n",
    "                for x in range(len(sub_masks)):\n",
    "                    masks += sub_masks[x]\n",
    "            mask3d[n] = masks\n",
    "            roi_lung[n] = img_hu[s]\n",
    "            n += 1\n",
    "            \n",
    "        mask3d[mask3d > 0] = 1\n",
    "        mask3d = mask3d.astype(np.uint8)\n",
    "        mask3d, _ = resample(mask3d, spacing3d, [1, 1, 1])\n",
    "        roi_lung, _ = resample(roi_lung, spacing3d, [1, 1, 1])\n",
    "        roi_lung = normalize(roi_lung)\n",
    "        for y in range(len(mask3d)):\n",
    "            if y == 0:\n",
    "                if not np.unique(mask3d[y]).any():\n",
    "                    mask3d[y] = mask3d[y+1]\n",
    "            if not np.unique(mask3d[y]).any():\n",
    "                mask3d[y] = mask3d[y-1]\n",
    "        \n",
    "        if np.unique(mask3d).any():\n",
    "            if len(roi_lung) == len(mask3d):\n",
    "                nodule = roi_lung*mask3d\n",
    "                roi_nodule = np.zeros((32, 32, 32))                    \n",
    "                if len(nodule) <= 32:\n",
    "                    for n in range(len(nodule)):\n",
    "                        m = 16 - (len(nodule)//2) + n\n",
    "                        roi_nodule[m] = partition3d(nodule[n], 32)\n",
    "                else:\n",
    "                    for n in range(32):\n",
    "                        m = (len(nodule) - 32)//2 + n\n",
    "                        roi_nodule[n] = partition3d(nodule[m], 32)\n",
    "            else:\n",
    "                print(\"length error case:%s nodule:%d\" %(case, ssub_annotation[\"total_nodule_number\"].values[0]))\n",
    "\n",
    "            axial = roi_nodule[15, :, :]\n",
    "            coronal = roi_nodule[:, 15, :]\n",
    "            sagittal = roi_nodule[:, :, 15]\n",
    "            \n",
    "            if np.unique(axial).any() and np.unique(coronal).any() and np.unique(sagittal).any():\n",
    "                nodule_number += 1\n",
    "                check.append(ssub_annotation[\"total_nodule_number\"].values[0])\n",
    "                writer.writerow([case, diam, nodule_number, rad, malignancy])\n",
    "                axial = axial*255\n",
    "                axial = axial.astype(np.uint8)\n",
    "                coronal = coronal*255\n",
    "                coronal = coronal.astype(np.uint8)\n",
    "                sagittal = sagittal*255\n",
    "                sagittal = sagittal.astype(np.uint8)\n",
    "                cv2.imwrite(images_path + \"/%04d_a.png\" %(nodule_number), axial)\n",
    "                cv2.imwrite(images_path + \"/%04d_c.png\" %(nodule_number), coronal)\n",
    "                cv2.imwrite(images_path + \"/%04d_s.png\" %(nodule_number), sagittal)\n",
    "            else:\n",
    "                print(\"empty mask case:%s nodule:%d\" %(case, ssub_annotation[\"total_nodule_number\"].values[0]))\n",
    "        else:\n",
    "            print(\"sopuid not match case:%s nodule:%d\" %(case, ssub_annotation[\"total_nodule_number\"].values[0]))\n",
    "            \n",
    "final_annotation.close()"
   ]
  },
  {
   "cell_type": "code",
   "execution_count": 4,
   "metadata": {},
   "outputs": [],
   "source": [
    "# img_hu2, _ = resample(img_hu, spacing3d, [1, 1, 1])\n",
    "# print(img_hu2.shape)\n",
    "# plt.imshow(img_hu2[166, :, :], cmap=\"gray\")\n",
    "# plt.axis(\"off\")\n",
    "# plt.show()\n",
    "# plt.imshow(cv2.flip(img_hu2[:, 180, :], -1), cmap=\"gray\")\n",
    "# plt.axis(\"off\")\n",
    "# plt.show()\n",
    "# plt.imshow(cv2.flip(img_hu2[:, :, 180], -1), cmap=\"gray\")\n",
    "# plt.axis(\"off\")\n",
    "# plt.show()"
   ]
  }
 ],
 "metadata": {
  "kernelspec": {
   "display_name": "Python 3",
   "language": "python",
   "name": "python3"
  },
  "language_info": {
   "codemirror_mode": {
    "name": "ipython",
    "version": 3
   },
   "file_extension": ".py",
   "mimetype": "text/x-python",
   "name": "python",
   "nbconvert_exporter": "python",
   "pygments_lexer": "ipython3",
   "version": "3.8.5"
  }
 },
 "nbformat": 4,
 "nbformat_minor": 4
}
