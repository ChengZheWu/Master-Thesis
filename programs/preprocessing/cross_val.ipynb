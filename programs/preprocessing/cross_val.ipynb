{
 "cells": [
  {
   "cell_type": "code",
   "execution_count": 1,
   "metadata": {},
   "outputs": [],
   "source": [
    "import numpy as np\n",
    "import pandas as pd\n",
    "import pickle\n",
    "import random\n",
    "from glob import glob\n",
    "from utils import *\n",
    "\n",
    "data_folder = \"/home/cbel/Desktop/zhe/data\""
   ]
  },
  {
   "cell_type": "code",
   "execution_count": 2,
   "metadata": {},
   "outputs": [],
   "source": [
    "def load_data(df, imgs_path, is_malignancy):\n",
    "    \n",
    "    if is_malignancy == 1:\n",
    "        index = df[df[\"malignancy\"]==1][\"nodule_number\"].values\n",
    "    if is_malignancy == 0:\n",
    "        index = df[df[\"malignancy\"]==0][\"nodule_number\"].values\n",
    "    if is_malignancy == 2:\n",
    "        index = df[df[\"malignancy\"]==2][\"nodule_number\"].values\n",
    "    \n",
    "    all_id = []\n",
    "    for i in range(len(imgs_path)):\n",
    "        idx = int(imgs_path[i][-8:-4])\n",
    "        if idx in index:\n",
    "            all_id.append(idx)\n",
    "    return all_id"
   ]
  },
  {
   "cell_type": "code",
   "execution_count": 3,
   "metadata": {},
   "outputs": [],
   "source": [
    "def split_10(index):\n",
    "    split = 10\n",
    "    total_num = len(index)\n",
    "    partition_num = total_num // 10\n",
    "    remainder = total_num % 10\n",
    "    tenFold = {}\n",
    "    tmp_index = index.copy()\n",
    "    num = 0\n",
    "    for fold in range(10):\n",
    "        subFold = []\n",
    "        for i in range(partition_num):\n",
    "            num += 1\n",
    "            subFold.append(tmp_index.pop(0))\n",
    "        if remainder > 0:\n",
    "            subFold.append(tmp_index.pop(0))\n",
    "            remainder -= 1\n",
    "        tenFold[fold] = subFold\n",
    "    return tenFold"
   ]
  },
  {
   "cell_type": "code",
   "execution_count": 4,
   "metadata": {},
   "outputs": [],
   "source": [
    "df = pd.read_csv(data_folder + \"/final_annotation.csv\")\n",
    "imgs_path = glob(data_folder + \"/multi_view/original/*.npy\")\n",
    "imgs_path.sort()\n",
    "random.seed(11)\n",
    "random.shuffle(imgs_path)\n",
    "be_index = load_data(df, imgs_path, 0)\n",
    "ma_index = load_data(df, imgs_path, 1)\n",
    "in_index = load_data(df, imgs_path, 2)"
   ]
  },
  {
   "cell_type": "code",
   "execution_count": 5,
   "metadata": {},
   "outputs": [],
   "source": [
    "be_tenFold = split_10(be_index)\n",
    "ma_tenFold = split_10(ma_index)"
   ]
  },
  {
   "cell_type": "code",
   "execution_count": 6,
   "metadata": {},
   "outputs": [],
   "source": [
    "tenFold = {}\n",
    "for i in range(10):\n",
    "    fold = [0 , 1, 2, 3, 4, 5, 6, 7, 8, 9]\n",
    "    tenFold[i] = {}\n",
    "    for split in [\"val\", \"train\"]:\n",
    "        if split == \"val\":\n",
    "            tenFold[i][split] = be_tenFold[i] + ma_tenFold[i]\n",
    "        else:\n",
    "            fold.remove(i)\n",
    "            tenFold[i][split] = []\n",
    "            tmp = [be_tenFold[j] + ma_tenFold[j] for j in fold]\n",
    "            for sub_tmp in tmp:\n",
    "                for k in sub_tmp:\n",
    "                    tenFold[i][split].append(k) \n",
    "                \n",
    "tenFold_pickle = open(data_folder + \"/tenFold.pickle\", \"wb\")\n",
    "pickle.dump(tenFold, tenFold_pickle)\n",
    "tenFold_pickle.close()"
   ]
  }
 ],
 "metadata": {
  "kernelspec": {
   "display_name": "Python 3",
   "language": "python",
   "name": "python3"
  },
  "language_info": {
   "codemirror_mode": {
    "name": "ipython",
    "version": 3
   },
   "file_extension": ".py",
   "mimetype": "text/x-python",
   "name": "python",
   "nbconvert_exporter": "python",
   "pygments_lexer": "ipython3",
   "version": "3.8.5"
  }
 },
 "nbformat": 4,
 "nbformat_minor": 4
}
