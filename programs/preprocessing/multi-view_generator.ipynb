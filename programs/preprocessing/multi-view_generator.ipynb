{
 "cells": [
  {
   "cell_type": "code",
   "execution_count": 1,
   "metadata": {},
   "outputs": [],
   "source": [
    "import cv2\n",
    "import numpy as np\n",
    "import pandas as pd\n",
    "from glob import glob\n",
    "from tqdm import tqdm\n",
    "from utils import *\n",
    "\n",
    "data_folder = \"/home/cbel/Desktop/zhe/data\""
   ]
  },
  {
   "cell_type": "code",
   "execution_count": 2,
   "metadata": {},
   "outputs": [],
   "source": [
    "def load_data(df, imgs_path):  \n",
    "    axial = []\n",
    "    coronal = []\n",
    "    sagittal = []\n",
    "    for i in range(len(imgs_path)):\n",
    "        num = int(imgs_path[i][-10:-6])\n",
    "        img = cv2.imread(imgs_path[i], 0)\n",
    "        img = img[np.newaxis, np.newaxis, :, :]\n",
    "        if imgs_path[i][-5] == \"a\":\n",
    "            axial.append(img)\n",
    "        elif imgs_path[i][-5] == \"c\":\n",
    "            coronal.append(img)\n",
    "        elif imgs_path[i][-5] == \"s\":\n",
    "            sagittal.append(img)\n",
    "        else:\n",
    "            print(\"empty\")\n",
    "    axial = np.array(axial)\n",
    "    coronal = np.array(coronal)\n",
    "    sagittal = np.array(sagittal)\n",
    "    return axial, coronal, sagittal"
   ]
  },
  {
   "cell_type": "code",
   "execution_count": 3,
   "metadata": {},
   "outputs": [],
   "source": [
    "# dataset = \"original\"\n",
    "# output_path = data_folder + f\"/multi_view/{dataset}\"\n",
    "# check_folder(output_path)\n",
    "# df = pd.read_csv(data_folder + \"/final_annotation.csv\")\n",
    "# imgs_path = glob(data_folder + \"/images/*.png\")\n",
    "# imgs_path.sort()\n",
    "# axial, coronal, sagittal = load_data(df, imgs_path)\n",
    "# for i in tqdm(range(len(axial))):\n",
    "#     merge_img = np.concatenate((axial[i], coronal[i], sagittal[i]), axis=0)\n",
    "#     np.save(output_path + \"/%04d\" %(i+1), merge_img)"
   ]
  },
  {
   "cell_type": "code",
   "execution_count": 4,
   "metadata": {},
   "outputs": [
    {
     "name": "stderr",
     "output_type": "stream",
     "text": [
      "0it [00:00, ?it/s]"
     ]
    },
    {
     "name": "stdout",
     "output_type": "stream",
     "text": [
      "/home/cbel/Desktop/zhe/data/multi_view/original目錄已存在\n",
      "/home/cbel/Desktop/zhe/data/multi_view/ENT目錄已存在\n"
     ]
    },
    {
     "name": "stderr",
     "output_type": "stream",
     "text": [
      "\n",
      "100%|██████████| 1386/1386 [00:00<00:00, 5556.35it/s]\n"
     ]
    },
    {
     "name": "stdout",
     "output_type": "stream",
     "text": [
      "/home/cbel/Desktop/zhe/data/multi_view/HOM目錄已存在\n"
     ]
    },
    {
     "name": "stderr",
     "output_type": "stream",
     "text": [
      "100%|██████████| 1386/1386 [00:00<00:00, 5820.49it/s]\n"
     ]
    },
    {
     "name": "stdout",
     "output_type": "stream",
     "text": [
      "/home/cbel/Desktop/zhe/data/multi_view/GLN目錄已存在\n"
     ]
    },
    {
     "name": "stderr",
     "output_type": "stream",
     "text": [
      "100%|██████████| 1386/1386 [00:00<00:00, 5092.61it/s]\n"
     ]
    },
    {
     "name": "stdout",
     "output_type": "stream",
     "text": [
      "/home/cbel/Desktop/zhe/data/multi_view/RLN目錄已存在\n"
     ]
    },
    {
     "name": "stderr",
     "output_type": "stream",
     "text": [
      "100%|██████████| 1386/1386 [00:00<00:00, 4466.87it/s]\n"
     ]
    },
    {
     "name": "stdout",
     "output_type": "stream",
     "text": [
      "/home/cbel/Desktop/zhe/data/multi_view/RP目錄已存在\n"
     ]
    },
    {
     "name": "stderr",
     "output_type": "stream",
     "text": [
      "100%|██████████| 1386/1386 [00:00<00:00, 5959.72it/s]\n"
     ]
    },
    {
     "name": "stdout",
     "output_type": "stream",
     "text": [
      "/home/cbel/Desktop/zhe/data/multi_view/SRE目錄已存在\n"
     ]
    },
    {
     "name": "stderr",
     "output_type": "stream",
     "text": [
      "100%|██████████| 1386/1386 [00:00<00:00, 6131.63it/s]\n"
     ]
    },
    {
     "name": "stdout",
     "output_type": "stream",
     "text": [
      "/home/cbel/Desktop/zhe/data/multi_view/COA目錄已存在\n"
     ]
    },
    {
     "name": "stderr",
     "output_type": "stream",
     "text": [
      "100%|██████████| 1386/1386 [00:00<00:00, 5526.89it/s]\n"
     ]
    }
   ],
   "source": [
    "datasets = [\"original\", \"ENT\", \"HOM\", \"GLN\", \"RLN\", \"RP\", \"SRE\", \"COA\"]\n",
    "for dataset in datasets:\n",
    "    output_path = data_folder + f\"/multi_view/{dataset}\"\n",
    "    check_folder(output_path)\n",
    "    df = pd.read_csv(data_folder + \"/final_annotation.csv\")\n",
    "    imgs_path = glob(data_folder + f\"/texture/{dataset}/*.png\")\n",
    "    imgs_path.sort()\n",
    "    axial, coronal, sagittal = load_data(df, imgs_path)\n",
    "    for i in tqdm(range(len(axial))):\n",
    "        merge_img = np.concatenate((axial[i], coronal[i], sagittal[i]), axis=0)\n",
    "        np.save(output_path + \"/%04d\" %(i+1), merge_img)"
   ]
  },
  {
   "cell_type": "code",
   "execution_count": 5,
   "metadata": {},
   "outputs": [
    {
     "name": "stdout",
     "output_type": "stream",
     "text": [
      "(3, 1, 32, 32)\n"
     ]
    },
    {
     "data": {
      "image/png": "[encoded data removed]",
      "text/plain": [
       "<Figure size 432x288 with 1 Axes>"
      ]
     },
     "metadata": {
      "needs_background": "light"
     },
     "output_type": "display_data"
    },
    {
     "data": {
      "image/png": "[encoded data removed]",
      "text/plain": [
       "<Figure size 432x288 with 1 Axes>"
      ]
     },
     "metadata": {
      "needs_background": "light"
     },
     "output_type": "display_data"
    },
    {
     "data": {
      "image/png": "[encoded data removed]",
      "text/plain": [
       "<Figure size 432x288 with 1 Axes>"
      ]
     },
     "metadata": {
      "needs_background": "light"
     },
     "output_type": "display_data"
    }
   ],
   "source": [
    "img = np.load(output_path + \"/0001.npy\")\n",
    "print(img.shape)\n",
    "for i in img:\n",
    "    imshow(np.squeeze(i))"
   ]
  }
 ],
 "metadata": {
  "kernelspec": {
   "display_name": "Python 3",
   "language": "python",
   "name": "python3"
  },
  "language_info": {
   "codemirror_mode": {
    "name": "ipython",
    "version": 3
   },
   "file_extension": ".py",
   "mimetype": "text/x-python",
   "name": "python",
   "nbconvert_exporter": "python",
   "pygments_lexer": "ipython3",
   "version": "3.8.5"
  }
 },
 "nbformat": 4,
 "nbformat_minor": 5
}
